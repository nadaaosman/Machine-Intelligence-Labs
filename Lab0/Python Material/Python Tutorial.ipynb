{
 "cells": [
  {
   "cell_type": "markdown",
   "metadata": {},
   "source": [
    "# Python Hello World"
   ]
  },
  {
   "cell_type": "code",
   "execution_count": 1,
   "metadata": {},
   "outputs": [
    {
     "name": "stdout",
     "output_type": "stream",
     "text": [
      "Hello World\n",
      "Hello World\n",
      "Hello 1 True\n"
     ]
    }
   ],
   "source": [
    "print(\"Hello World\")\n",
    "print(\"Hello\", \"World\")\n",
    "print(\"Hello\", 1, True)"
   ]
  },
  {
   "cell_type": "code",
   "execution_count": 2,
   "metadata": {},
   "outputs": [],
   "source": [
    "x=\"Good\""
   ]
  },
  {
   "cell_type": "code",
   "execution_count": 3,
   "metadata": {},
   "outputs": [
    {
     "name": "stdout",
     "output_type": "stream",
     "text": [
      "Good Bye\n"
     ]
    }
   ],
   "source": [
    "print(x, \"Bye\")"
   ]
  },
  {
   "cell_type": "markdown",
   "metadata": {},
   "source": [
    "# This is Markdown\n",
    "It can be used for explanations"
   ]
  },
  {
   "cell_type": "code",
   "execution_count": 4,
   "metadata": {},
   "outputs": [
    {
     "name": "stdout",
     "output_type": "stream",
     "text": [
      "x = 1\n"
     ]
    }
   ],
   "source": [
    "#This is a comment\n",
    "#Below is how to define a variable\n",
    "x=1\n",
    "print('x =',x)"
   ]
  },
  {
   "cell_type": "code",
   "execution_count": 5,
   "metadata": {},
   "outputs": [
    {
     "data": {
      "text/plain": [
       "'\\nThis is a multiline comment (and a string too :D)\\nUseful for long documentation\\n'"
      ]
     },
     "execution_count": 5,
     "metadata": {},
     "output_type": "execute_result"
    }
   ],
   "source": [
    "\"\"\"\n",
    "This is a multiline comment (and a string too :D)\n",
    "Useful for long documentation\n",
    "\"\"\""
   ]
  },
  {
   "cell_type": "markdown",
   "metadata": {},
   "source": [
    "## Python is Dynamically typed and Strong Typed"
   ]
  },
  {
   "cell_type": "code",
   "execution_count": 6,
   "metadata": {},
   "outputs": [
    {
     "name": "stdout",
     "output_type": "stream",
     "text": [
      "x = 1 \t\t\t=> with type <class 'int'>\n",
      "x = 2.5 \t\t=> with type <class 'float'>\n",
      "x = 1.1e+18 \t\t=> with type <class 'float'>\n",
      "x = True \t\t=> with type <class 'bool'>\n",
      "x = Hello World \t=> with type <class 'str'>\n",
      "x = \"Hello World\" \t=> with type <class 'str'>\n",
      "x = (1+2j) \t\t=> with type <class 'complex'>\n",
      "\n",
      "x = [1, 2, 3] \t\t=> with type <class 'list'>\n",
      "x = (1, 2, 3) \t\t=> with type <class 'tuple'>\n",
      "x = (1,) \t\t=> with type <class 'tuple'>\n",
      "x = {1, 2, 3} \t\t=> with type <class 'set'>\n",
      "x = {'a': 1, 'b': 2, 'c': 3} \t\t=> with type <class 'dict'>\n",
      "x = None \t\t=> with type <class 'NoneType'>\n"
     ]
    }
   ],
   "source": [
    "#Variables can change types dynamically\n",
    "x=1\n",
    "print('x =', x, '\\t\\t\\t=> with type', type(x))\n",
    "\n",
    "x=2.5\n",
    "print('x =', x, '\\t\\t=> with type', type(x))\n",
    "\n",
    "x=1.1e18\n",
    "print('x =', x, '\\t\\t=> with type', type(x))\n",
    "\n",
    "x=True #True with Uppercase T and False with Uppercase F\n",
    "print('x =', x, '\\t\\t=> with type', type(x))\n",
    "\n",
    "x=\"Hello World\"\n",
    "print('x =', x, '\\t=> with type', type(x))\n",
    "\n",
    "x='\"Hello World\"'\n",
    "print('x =', x, '\\t=> with type', type(x))\n",
    "\n",
    "x=1+2j\n",
    "print('x =', x, '\\t\\t=> with type', type(x))\n",
    "\n",
    "print()\n",
    "\n",
    "x=[1,2,3]\n",
    "print('x =', x, '\\t\\t=> with type', type(x))\n",
    "\n",
    "x=(1,2,3)\n",
    "print('x =', x, '\\t\\t=> with type', type(x))\n",
    "\n",
    "x=(1,)\n",
    "print('x =', x, '\\t\\t=> with type', type(x))\n",
    "\n",
    "x={1,2,3}\n",
    "print('x =', x, '\\t\\t=> with type', type(x))\n",
    "\n",
    "x={'a':1, 'b':2, 'c':3}\n",
    "print('x =', x, '\\t\\t=> with type', type(x))\n",
    "\n",
    "x=None\n",
    "print('x =', x, '\\t\\t=> with type', type(x))"
   ]
  },
  {
   "cell_type": "code",
   "execution_count": 8,
   "metadata": {},
   "outputs": [
    {
     "name": "stdout",
     "output_type": "stream",
     "text": [
      "x = 1 \t\t=> with type <class 'int'>\n"
     ]
    },
    {
     "ename": "NameError",
     "evalue": "name 'x' is not defined",
     "output_type": "error",
     "traceback": [
      "\u001b[1;31m---------------------------------------------------------------------------\u001b[0m",
      "\u001b[1;31mNameError\u001b[0m                                 Traceback (most recent call last)",
      "\u001b[1;32mc:\\Daily use\\Materials\\Fourth_Year_Sem_1\\MI\\Lab0\\Python Material\\Python Tutorial.ipynb Cell 10\u001b[0m line \u001b[0;36m<cell line: 5>\u001b[1;34m()\u001b[0m\n\u001b[0;32m      <a href='vscode-notebook-cell:/c%3A/Daily%20use/Materials/Fourth_Year_Sem_1/MI/Lab0/Python%20Material/Python%20Tutorial.ipynb#X12sZmlsZQ%3D%3D?line=1'>2</a>\u001b[0m \u001b[39mprint\u001b[39m(\u001b[39m'\u001b[39m\u001b[39mx =\u001b[39m\u001b[39m'\u001b[39m, x, \u001b[39m'\u001b[39m\u001b[39m\\t\u001b[39;00m\u001b[39m\\t\u001b[39;00m\u001b[39m=> with type\u001b[39m\u001b[39m'\u001b[39m, \u001b[39mtype\u001b[39m(x))\n\u001b[0;32m      <a href='vscode-notebook-cell:/c%3A/Daily%20use/Materials/Fourth_Year_Sem_1/MI/Lab0/Python%20Material/Python%20Tutorial.ipynb#X12sZmlsZQ%3D%3D?line=3'>4</a>\u001b[0m \u001b[39mdel\u001b[39;00m x  \n\u001b[1;32m----> <a href='vscode-notebook-cell:/c%3A/Daily%20use/Materials/Fourth_Year_Sem_1/MI/Lab0/Python%20Material/Python%20Tutorial.ipynb#X12sZmlsZQ%3D%3D?line=4'>5</a>\u001b[0m \u001b[39mprint\u001b[39m(\u001b[39m'\u001b[39m\u001b[39mx =\u001b[39m\u001b[39m'\u001b[39m, x, \u001b[39m'\u001b[39m\u001b[39m\\t\u001b[39;00m\u001b[39m\\t\u001b[39;00m\u001b[39m=> with type\u001b[39m\u001b[39m'\u001b[39m, \u001b[39mtype\u001b[39m(x))\n",
      "\u001b[1;31mNameError\u001b[0m: name 'x' is not defined"
     ]
    }
   ],
   "source": [
    "x = 1\n",
    "print('x =', x, '\\t\\t=> with type', type(x))\n",
    "\n",
    "del x  \n",
    "print('x =', x, '\\t\\t=> with type', type(x))"
   ]
  },
  {
   "cell_type": "code",
   "execution_count": 9,
   "metadata": {},
   "outputs": [
    {
     "ename": "TypeError",
     "evalue": "can only concatenate str (not \"int\") to str",
     "output_type": "error",
     "traceback": [
      "\u001b[1;31m---------------------------------------------------------------------------\u001b[0m",
      "\u001b[1;31mTypeError\u001b[0m                                 Traceback (most recent call last)",
      "\u001b[1;32mc:\\Daily use\\Materials\\Fourth_Year_Sem_1\\MI\\Lab0\\Python Material\\Python Tutorial.ipynb Cell 11\u001b[0m line \u001b[0;36m<cell line: 2>\u001b[1;34m()\u001b[0m\n\u001b[0;32m      <a href='vscode-notebook-cell:/c%3A/Daily%20use/Materials/Fourth_Year_Sem_1/MI/Lab0/Python%20Material/Python%20Tutorial.ipynb#X13sZmlsZQ%3D%3D?line=0'>1</a>\u001b[0m \u001b[39m#python is also strongly typed so it will not implicitly change types\u001b[39;00m\n\u001b[1;32m----> <a href='vscode-notebook-cell:/c%3A/Daily%20use/Materials/Fourth_Year_Sem_1/MI/Lab0/Python%20Material/Python%20Tutorial.ipynb#X13sZmlsZQ%3D%3D?line=1'>2</a>\u001b[0m x \u001b[39m=\u001b[39m \u001b[39m\"\u001b[39;49m\u001b[39mThis number is \u001b[39;49m\u001b[39m\"\u001b[39;49m \u001b[39m+\u001b[39;49m \u001b[39m12\u001b[39;49m\n",
      "\u001b[1;31mTypeError\u001b[0m: can only concatenate str (not \"int\") to str"
     ]
    }
   ],
   "source": [
    "#python is also strongly typed so it will not implicitly change types\n",
    "x = \"This number is \" + 12"
   ]
  },
  {
   "cell_type": "code",
   "execution_count": 10,
   "metadata": {},
   "outputs": [
    {
     "name": "stdout",
     "output_type": "stream",
     "text": [
      "This number is 12\n",
      "25\n"
     ]
    }
   ],
   "source": [
    "#but you can cast variable if you wish\n",
    "x = \"This number is \" + str(12)\n",
    "print(x)\n",
    "x = int(\"13\") + 12\n",
    "print(x)"
   ]
  },
  {
   "cell_type": "markdown",
   "metadata": {},
   "source": [
    "# Python Operators"
   ]
  },
  {
   "cell_type": "code",
   "execution_count": null,
   "metadata": {},
   "outputs": [
    {
     "name": "stdout",
     "output_type": "stream",
     "text": [
      "x+y =  9\n",
      "x-y =  -1\n",
      "x*y =  20\n",
      "x/y =  0.8\n",
      "x//y =  0\n",
      "x%y =  4\n",
      "x**y =  1024\n"
     ]
    }
   ],
   "source": [
    "x, y = 4, 5\n",
    "print('x+y = ', x+y)\n",
    "print('x-y = ', x-y)\n",
    "print('x*y = ', x*y)\n",
    "print('x/y = ', x/y)\n",
    "print('x//y = ', x//y)\n",
    "print('x%y = ', x%y)\n",
    "print('x**y = ', x**y)"
   ]
  },
  {
   "cell_type": "code",
   "execution_count": null,
   "metadata": {},
   "outputs": [
    {
     "name": "stdout",
     "output_type": "stream",
     "text": [
      "x==y =  False\n",
      "x!=y =  True\n",
      "x<y =  True\n",
      "x>y =  False\n",
      "x<=y =  True\n",
      "x>=y =  False\n"
     ]
    }
   ],
   "source": [
    "x, y = 4, 5\n",
    "print('x==y = ', x==y)\n",
    "print('x!=y = ', x!=y)\n",
    "print('x<y = ', x<y)\n",
    "print('x>y = ', x>y)\n",
    "print('x<=y = ', x<=y)\n",
    "print('x>=y = ', x>=y)"
   ]
  },
  {
   "cell_type": "code",
   "execution_count": null,
   "metadata": {},
   "outputs": [
    {
     "name": "stdout",
     "output_type": "stream",
     "text": [
      "x and y =  False\n",
      "x or y =  True\n",
      "not x =  False\n"
     ]
    }
   ],
   "source": [
    "x, y = True, False\n",
    "print('x and y = ', x and y)\n",
    "print('x or y = ', x or y)\n",
    "print('not x = ', not x)"
   ]
  },
  {
   "cell_type": "code",
   "execution_count": null,
   "metadata": {},
   "outputs": [],
   "source": [
    "x, y = 0b0101, 0b0011\n",
    "print('x & y = ', bin(x & y))\n",
    "print('x | y = ', bin(x | y))\n",
    "print('~ x = ', bin(~ x))\n",
    "print('x ^ y = ', bin(x ^ y))\n",
    "print('x << 1', bin(x << 1))\n",
    "print('x >> 1', bin(x >> 1))"
   ]
  },
  {
   "cell_type": "code",
   "execution_count": null,
   "metadata": {},
   "outputs": [
    {
     "name": "stdout",
     "output_type": "stream",
     "text": [
      "x+y = HelloWorld\n",
      "x*3 = HelloHelloHello\n",
      "ascii of \"h\" =  104\n",
      "char for 104 =  h\n"
     ]
    }
   ],
   "source": [
    "x, y = 'Hello', \"World\"\n",
    "print('x+y =', x+y)\n",
    "print('x*3 =', x*3)\n",
    "print('ascii of \"h\" = ', ord('h'))\n",
    "print('char for 104 = ', chr(104))"
   ]
  },
  {
   "cell_type": "code",
   "execution_count": null,
   "metadata": {},
   "outputs": [
    {
     "name": "stdout",
     "output_type": "stream",
     "text": [
      "x+y = [1, 2, 3, 4, 5]\n",
      "x*3 = [1, 2, 3, 1, 2, 3, 1, 2, 3]\n",
      "\n",
      "x+y = (1, 2, 3, 4, 5)\n",
      "x*3 = (1, 2, 3, 1, 2, 3, 1, 2, 3)\n"
     ]
    }
   ],
   "source": [
    "x, y = [1,2,3], [4,5]\n",
    "print('x+y =', x+y)\n",
    "print('x*3 =', x*3)\n",
    "\n",
    "print()\n",
    "\n",
    "x, y = (1,2,3), (4,5)\n",
    "print('x+y =', x+y)\n",
    "print('x*3 =', x*3)"
   ]
  },
  {
   "cell_type": "code",
   "execution_count": null,
   "metadata": {},
   "outputs": [
    {
     "name": "stdout",
     "output_type": "stream",
     "text": [
      "1+(2*3) = 7\n"
     ]
    }
   ],
   "source": [
    "#Python is an interpreted language so you can evaluate any string as python code\n",
    "x = \"1+(2*3)\"\n",
    "print(x,'=',eval(x))"
   ]
  },
  {
   "cell_type": "code",
   "execution_count": null,
   "metadata": {},
   "outputs": [
    {
     "name": "stdout",
     "output_type": "stream",
     "text": [
      "x = 2\n",
      "x = 3\n",
      "x = 2\n",
      "x = 10\n",
      "x = 2.0\n",
      "x = 1024.0\n",
      "x = 102.0\n",
      "x = 2.0\n"
     ]
    }
   ],
   "source": [
    "x = 2\n",
    "print('x =', x)\n",
    "x += 1\n",
    "print('x =', x)\n",
    "x -= 1\n",
    "print('x =', x)\n",
    "x *= 5\n",
    "print('x =', x)\n",
    "x /= 5\n",
    "print('x =', x)\n",
    "x **= 10\n",
    "print('x =', x)\n",
    "x //= 10\n",
    "print('x =', x)\n",
    "x %= 10\n",
    "print('x =', x)"
   ]
  },
  {
   "cell_type": "code",
   "execution_count": null,
   "metadata": {},
   "outputs": [
    {
     "name": "stdout",
     "output_type": "stream",
     "text": [
      "x = 6\n",
      "x = 2\n",
      "x = 5\n"
     ]
    }
   ],
   "source": [
    "x = 4\n",
    "x |= 2\n",
    "print('x =', x)\n",
    "x &= 2\n",
    "print('x =', x)\n",
    "x ^= 7\n",
    "print('x =', x)"
   ]
  },
  {
   "cell_type": "markdown",
   "metadata": {},
   "source": [
    "# Exercise\n",
    "- Take a number from the user.\n",
    "- Print True if it is a power of two.\n",
    "- Otherwise print False."
   ]
  },
  {
   "cell_type": "code",
   "execution_count": 11,
   "metadata": {},
   "outputs": [
    {
     "name": "stdout",
     "output_type": "stream",
     "text": [
      "False\n"
     ]
    }
   ],
   "source": [
    "# Enter Code Here\n",
    "val = input(\"Enter your value: \")\n",
    "if int(val)%2==0:\n",
    "    print(True)\n",
    "else:\n",
    "    print(False)"
   ]
  },
  {
   "cell_type": "markdown",
   "metadata": {},
   "source": [
    "# End of Exercise"
   ]
  },
  {
   "cell_type": "code",
   "execution_count": null,
   "metadata": {},
   "outputs": [
    {
     "name": "stdout",
     "output_type": "stream",
     "text": [
      "is 1 in list? = True\n",
      "is 4 in list? = False\n",
      "is 4 not in list? = True\n",
      "ll in hello True\n",
      "x in hello False\n",
      "is 1 in set? = True\n",
      "is 4 in set? = False\n",
      "is 1 in dict? = True\n",
      "is 4 in dict? = False\n"
     ]
    }
   ],
   "source": [
    "x = [1,2,3]\n",
    "print('is 1 in list? =', 1 in x)\n",
    "print('is 4 in list? =', 4 in x)\n",
    "print('is 4 not in list? =', 4 not in x)\n",
    "\n",
    "x='hello'\n",
    "print('ll in hello', 'll' in x)\n",
    "print('x in hello', 'x' in x)\n",
    "\n",
    "x = {1,2,3}\n",
    "print('is 1 in set? =', 1 in x)\n",
    "print('is 4 in set? =', 4 in x)\n",
    "\n",
    "x = {1:'a',2:'b',3:'c'}\n",
    "print('is 1 in dict? =', 1 in x)\n",
    "print('is 4 in dict? =', 4 in x)"
   ]
  },
  {
   "cell_type": "code",
   "execution_count": null,
   "metadata": {},
   "outputs": [
    {
     "name": "stdout",
     "output_type": "stream",
     "text": [
      "Same Reference\n",
      "x == y = True\n",
      "x is y = True\n",
      "x is not y = False\n",
      "Different Reference\n",
      "x == y = True\n",
      "x is y = False\n",
      "x is not y = True\n"
     ]
    }
   ],
   "source": [
    "x = [1,2,3]\n",
    "y = x\n",
    "print(\"Same Reference\")\n",
    "print('x == y =', x==y)\n",
    "print('x is y =', x is y)\n",
    "print('x is not y =', x is not y)\n",
    "\n",
    "y = [1,2,3]\n",
    "print(\"Different Reference\")\n",
    "print('x == y =', x==y)\n",
    "print('x is y =', x is y)\n",
    "print('x is not y =', x is not y)"
   ]
  },
  {
   "cell_type": "code",
   "execution_count": null,
   "metadata": {
    "scrolled": true
   },
   "outputs": [
    {
     "name": "stdout",
     "output_type": "stream",
     "text": [
      "True\n",
      "True\n",
      "True\n"
     ]
    }
   ],
   "source": [
    "print(1 < 2 < 3)\n",
    "print(1 > 0 < 1)\n",
    "print(0 < 1 == 1 in [1, 2, 3])"
   ]
  },
  {
   "cell_type": "code",
   "execution_count": 12,
   "metadata": {},
   "outputs": [
    {
     "name": "stdout",
     "output_type": "stream",
     "text": [
      "True\n",
      "True\n",
      "True\n"
     ]
    }
   ],
   "source": [
    "# This is equivalent to the last block\n",
    "print(1 < 2 and 2 < 3)\n",
    "print(1 > 0 and 0 < 1)\n",
    "print(0 < 1 and 1 == 1 and 1 in [1, 2, 3])"
   ]
  },
  {
   "cell_type": "code",
   "execution_count": null,
   "metadata": {},
   "outputs": [
    {
     "name": "stdout",
     "output_type": "stream",
     "text": [
      "2017942268336\n",
      "2017942268336\n",
      "2017942268336\n",
      "\n",
      "2018058662416\n",
      "2018058663120\n"
     ]
    }
   ],
   "source": [
    "# id depends on the memory location\n",
    "x = 5\n",
    "y = 5\n",
    "print(id(x))\n",
    "print(id(y))\n",
    "print(id(5))\n",
    "\n",
    "print()\n",
    "\n",
    "x = 257\n",
    "y = 257\n",
    "print(id(x))\n",
    "print(id(y))"
   ]
  },
  {
   "cell_type": "markdown",
   "metadata": {},
   "source": [
    "# Exercise\n",
    "- Take a list from the user.\n",
    "- Print True if it contains the number 13.\n",
    "- Otherwise print False."
   ]
  },
  {
   "cell_type": "code",
   "execution_count": 16,
   "metadata": {
    "scrolled": true
   },
   "outputs": [
    {
     "name": "stdout",
     "output_type": "stream",
     "text": [
      "[1,13,3]\n"
     ]
    },
    {
     "ename": "TypeError",
     "evalue": "'str' object is not callable",
     "output_type": "error",
     "traceback": [
      "\u001b[1;31m---------------------------------------------------------------------------\u001b[0m",
      "\u001b[1;31mTypeError\u001b[0m                                 Traceback (most recent call last)",
      "\u001b[1;32mc:\\Daily use\\Materials\\Fourth_Year_Sem_1\\MI\\Lab0\\Python Material\\Python Tutorial.ipynb Cell 32\u001b[0m line \u001b[0;36m<cell line: 3>\u001b[1;34m()\u001b[0m\n\u001b[0;32m      <a href='vscode-notebook-cell:/c%3A/Daily%20use/Materials/Fourth_Year_Sem_1/MI/Lab0/Python%20Material/Python%20Tutorial.ipynb#X43sZmlsZQ%3D%3D?line=0'>1</a>\u001b[0m \u001b[39mlist\u001b[39m \u001b[39m=\u001b[39m \u001b[39minput\u001b[39m(\u001b[39m\"\u001b[39m\u001b[39mEnter your list: \u001b[39m\u001b[39m\"\u001b[39m)\n\u001b[0;32m      <a href='vscode-notebook-cell:/c%3A/Daily%20use/Materials/Fourth_Year_Sem_1/MI/Lab0/Python%20Material/Python%20Tutorial.ipynb#X43sZmlsZQ%3D%3D?line=1'>2</a>\u001b[0m \u001b[39mprint\u001b[39m(\u001b[39mlist\u001b[39m)\n\u001b[1;32m----> <a href='vscode-notebook-cell:/c%3A/Daily%20use/Materials/Fourth_Year_Sem_1/MI/Lab0/Python%20Material/Python%20Tutorial.ipynb#X43sZmlsZQ%3D%3D?line=2'>3</a>\u001b[0m \u001b[39mif\u001b[39;00m \u001b[39mint\u001b[39m(\u001b[39m13\u001b[39m) \u001b[39min\u001b[39;00m \u001b[39mlist\u001b[39;49m(\u001b[39mlist\u001b[39;49m):\n\u001b[0;32m      <a href='vscode-notebook-cell:/c%3A/Daily%20use/Materials/Fourth_Year_Sem_1/MI/Lab0/Python%20Material/Python%20Tutorial.ipynb#X43sZmlsZQ%3D%3D?line=3'>4</a>\u001b[0m     \u001b[39mprint\u001b[39m(\u001b[39mTrue\u001b[39;00m)\n\u001b[0;32m      <a href='vscode-notebook-cell:/c%3A/Daily%20use/Materials/Fourth_Year_Sem_1/MI/Lab0/Python%20Material/Python%20Tutorial.ipynb#X43sZmlsZQ%3D%3D?line=4'>5</a>\u001b[0m \u001b[39melse\u001b[39;00m:\n",
      "\u001b[1;31mTypeError\u001b[0m: 'str' object is not callable"
     ]
    }
   ],
   "source": [
    "list = input(\"Enter your list: \")\n",
    "if 13 in list(list):\n",
    "    print(True)\n",
    "else:\n",
    "    print(False)"
   ]
  },
  {
   "cell_type": "markdown",
   "metadata": {},
   "source": [
    "# End of Exercise"
   ]
  },
  {
   "cell_type": "markdown",
   "metadata": {},
   "source": [
    "# Strings"
   ]
  },
  {
   "cell_type": "code",
   "execution_count": null,
   "metadata": {},
   "outputs": [],
   "source": [
    "x = 'Hello World'\n",
    "\n",
    "print(\"x[0] =\",x[0])\n",
    "print(\"x[-1] =\", x[-1])\n",
    "print(\"x[1:3] = \", x[1:3]) #slice from 1 (inclusive) to 3 (exclusive)\n",
    "print(\"x[:3] = \", x[:3])\n",
    "print(\"x[1:] = \", x[1:])\n",
    "print(\"x[:-1] = \", x[:-1])\n",
    "print(\"x[1:5:2] = \", x[1:5:2])\n",
    "print(\"x[::2] = \", x[::2])\n",
    "print(\"x[::-1] = \", x[::-1])"
   ]
  },
  {
   "cell_type": "code",
   "execution_count": 17,
   "metadata": {},
   "outputs": [
    {
     "name": "stdout",
     "output_type": "stream",
     "text": [
      "length of x = 11\n",
      "x[-1] = x[len(x)-1] =  d\n",
      "x[0] = x[-len(x)] = H\n"
     ]
    }
   ],
   "source": [
    "x = 'Hello World'\n",
    "\n",
    "print('length of x =', len(x))\n",
    "print('x[-1] = x[len(x)-1] = ', x[len(x)-1])\n",
    "print('x[0] = x[-len(x)] =', x[-len(x)])"
   ]
  },
  {
   "cell_type": "code",
   "execution_count": 18,
   "metadata": {},
   "outputs": [
    {
     "ename": "IndexError",
     "evalue": "string index out of range",
     "output_type": "error",
     "traceback": [
      "\u001b[1;31m---------------------------------------------------------------------------\u001b[0m",
      "\u001b[1;31mIndexError\u001b[0m                                Traceback (most recent call last)",
      "\u001b[1;32mc:\\Daily use\\Materials\\Fourth_Year_Sem_1\\MI\\Lab0\\Python Material\\Python Tutorial.ipynb Cell 37\u001b[0m line \u001b[0;36m<cell line: 1>\u001b[1;34m()\u001b[0m\n\u001b[1;32m----> <a href='vscode-notebook-cell:/c%3A/Daily%20use/Materials/Fourth_Year_Sem_1/MI/Lab0/Python%20Material/Python%20Tutorial.ipynb#X51sZmlsZQ%3D%3D?line=0'>1</a>\u001b[0m \u001b[39mprint\u001b[39m(x[\u001b[39mlen\u001b[39;49m(x)]) \u001b[39m#error\u001b[39;00m\n\u001b[0;32m      <a href='vscode-notebook-cell:/c%3A/Daily%20use/Materials/Fourth_Year_Sem_1/MI/Lab0/Python%20Material/Python%20Tutorial.ipynb#X51sZmlsZQ%3D%3D?line=1'>2</a>\u001b[0m \u001b[39mprint\u001b[39m(x[\u001b[39m-\u001b[39m\u001b[39mlen\u001b[39m(x)\u001b[39m-\u001b[39m\u001b[39m1\u001b[39m])\n",
      "\u001b[1;31mIndexError\u001b[0m: string index out of range"
     ]
    }
   ],
   "source": [
    "print(x[len(x)]) #error\n",
    "print(x[-len(x)-1]) #error"
   ]
  },
  {
   "cell_type": "code",
   "execution_count": 19,
   "metadata": {},
   "outputs": [
    {
     "ename": "TypeError",
     "evalue": "'str' object does not support item assignment",
     "output_type": "error",
     "traceback": [
      "\u001b[1;31m---------------------------------------------------------------------------\u001b[0m",
      "\u001b[1;31mTypeError\u001b[0m                                 Traceback (most recent call last)",
      "\u001b[1;32mc:\\Daily use\\Materials\\Fourth_Year_Sem_1\\MI\\Lab0\\Python Material\\Python Tutorial.ipynb Cell 38\u001b[0m line \u001b[0;36m<cell line: 2>\u001b[1;34m()\u001b[0m\n\u001b[0;32m      <a href='vscode-notebook-cell:/c%3A/Daily%20use/Materials/Fourth_Year_Sem_1/MI/Lab0/Python%20Material/Python%20Tutorial.ipynb#X52sZmlsZQ%3D%3D?line=0'>1</a>\u001b[0m x \u001b[39m=\u001b[39m \u001b[39m'\u001b[39m\u001b[39mHello World\u001b[39m\u001b[39m'\u001b[39m\n\u001b[1;32m----> <a href='vscode-notebook-cell:/c%3A/Daily%20use/Materials/Fourth_Year_Sem_1/MI/Lab0/Python%20Material/Python%20Tutorial.ipynb#X52sZmlsZQ%3D%3D?line=1'>2</a>\u001b[0m x[\u001b[39m1\u001b[39m] \u001b[39m=\u001b[39m \u001b[39m'\u001b[39m\u001b[39ma\u001b[39m\u001b[39m'\u001b[39m\n",
      "\u001b[1;31mTypeError\u001b[0m: 'str' object does not support item assignment"
     ]
    }
   ],
   "source": [
    "x = 'Hello World'\n",
    "x[1] = 'a'"
   ]
  },
  {
   "cell_type": "code",
   "execution_count": 20,
   "metadata": {},
   "outputs": [
    {
     "name": "stdout",
     "output_type": "stream",
     "text": [
      "Hallo World\n"
     ]
    }
   ],
   "source": [
    "x = x[0:1] + 'a' + x[2:]\n",
    "print(x)"
   ]
  },
  {
   "cell_type": "code",
   "execution_count": null,
   "metadata": {},
   "outputs": [],
   "source": [
    "x = '1 2 3 4'\n",
    "print(x.split())\n",
    "\n",
    "x = '1/2/3/4'\n",
    "print(x.split('/'))"
   ]
  },
  {
   "cell_type": "code",
   "execution_count": null,
   "metadata": {},
   "outputs": [],
   "source": [
    "l = ['1','2','3','4']\n",
    "s = '+'.join(l)\n",
    "print(s)"
   ]
  },
  {
   "cell_type": "code",
   "execution_count": null,
   "metadata": {},
   "outputs": [],
   "source": [
    "x = 1\n",
    "y = \"Mazinger\"\n",
    "print(f'Hello {y}, as you know, if x={x}, then 2*x+1={2*x+1}')"
   ]
  },
  {
   "cell_type": "markdown",
   "metadata": {},
   "source": [
    "# Exercise\n",
    "- Take a string from the user\n",
    "- Print True if it is a palindrome\n",
    "- Otherwise it is a False"
   ]
  },
  {
   "cell_type": "code",
   "execution_count": null,
   "metadata": {},
   "outputs": [],
   "source": [
    "#Enter Code Here"
   ]
  },
  {
   "cell_type": "markdown",
   "metadata": {},
   "source": [
    "# End of Exercise"
   ]
  },
  {
   "cell_type": "markdown",
   "metadata": {},
   "source": [
    "# Lists"
   ]
  },
  {
   "cell_type": "code",
   "execution_count": null,
   "metadata": {},
   "outputs": [],
   "source": [
    "x = [1,2,3,'hello',1.2,1+5j]\n",
    "\n",
    "print(\"x[0] =\",x[0])\n",
    "print(\"x[-1] =\", x[-1])\n",
    "print(\"x[1:3] = \", x[1:3]) #slice from 1 (inclusive) to 3 (exclusive)\n",
    "print(\"x[:3] = \", x[:3])\n",
    "print(\"x[1:] = \", x[1:])\n",
    "print(\"x[:-1] = \", x[:-1])\n",
    "print(\"x[1:5:2] = \", x[1:5:2])\n",
    "print(\"x[::2] = \", x[::2])\n",
    "print(\"x[::-1] = \", x[::-1])"
   ]
  },
  {
   "cell_type": "code",
   "execution_count": null,
   "metadata": {},
   "outputs": [],
   "source": [
    "x = [1,2,3,4,5]\n",
    "\n",
    "x[1] = 'a'\n",
    "print(x)\n",
    "x[1:-1] = ['add', 'this']\n",
    "print(x)\n",
    "x[1:-1] = []\n",
    "print(x)"
   ]
  },
  {
   "cell_type": "code",
   "execution_count": null,
   "metadata": {},
   "outputs": [],
   "source": [
    "x = [1,2,3,4,5]\n",
    "y = x\n",
    "y[1] = 'edit'\n",
    "print('x = ', x)\n",
    "print('y = ', y)"
   ]
  },
  {
   "cell_type": "code",
   "execution_count": null,
   "metadata": {},
   "outputs": [],
   "source": [
    "x = [1,2,3,4,5]\n",
    "y = x[:]\n",
    "y[1] = 'edit'\n",
    "print('x = ', x)\n",
    "print('y = ', y)"
   ]
  },
  {
   "cell_type": "code",
   "execution_count": null,
   "metadata": {},
   "outputs": [],
   "source": [
    "x = [1,2,3,4,5]\n",
    "x.append('last')\n",
    "print(x)\n",
    "x.insert(0, 'first')\n",
    "print(x)\n",
    "x.insert(len(x)//2, 'middle')\n",
    "print(x)"
   ]
  },
  {
   "cell_type": "code",
   "execution_count": null,
   "metadata": {},
   "outputs": [],
   "source": [
    "x = [1,2,3,4,5]\n",
    "\n",
    "x.pop()\n",
    "print(x)\n",
    "x.pop(0)\n",
    "print(x)\n",
    "x.pop(len(x)//2)\n",
    "print(x)"
   ]
  },
  {
   "cell_type": "code",
   "execution_count": null,
   "metadata": {
    "scrolled": true
   },
   "outputs": [],
   "source": [
    "x = [1,2,3,1,2,1]\n",
    "\n",
    "print('count of 1 =', x.count(1))\n",
    "print('max =', max(x))\n",
    "print('min =', min(x))\n",
    "print('first index of 2 =', x.index(2))\n",
    "\n",
    "#reversing\n",
    "print('reversed =', list(reversed(x)))\n",
    "print('x didn\\'t change =', x)\n",
    "x.reverse() #done inplace\n",
    "print('reversed inplace =', x)\n",
    "\n",
    "#sorting\n",
    "print('sorted =', list(sorted(x)))\n",
    "print('x didn\\'t change =', x)\n",
    "x.sort() #done inplace\n",
    "print('sorted inplace =', x)\n",
    "\n",
    "x.extend([4, 5])\n",
    "print('with [4,5] =', x)\n",
    "x.remove(2)\n",
    "print('with 2 =', x)"
   ]
  },
  {
   "cell_type": "code",
   "execution_count": null,
   "metadata": {},
   "outputs": [],
   "source": [
    "x = [1,2,3,1,2,1]\n",
    "print(x)\n",
    "print(*x)"
   ]
  },
  {
   "cell_type": "code",
   "execution_count": null,
   "metadata": {},
   "outputs": [],
   "source": [
    "x = [1,2,3]\n",
    "y = [9,8,7]\n",
    "print([*x, *y])\n",
    "print([*x, 5, *y])\n",
    "print([1, *y, *x])"
   ]
  },
  {
   "cell_type": "markdown",
   "metadata": {},
   "source": [
    "# Exercise\n",
    "- Read a list from the user\n",
    "- Create another list whose odd elements are the elements of the given list in order\n",
    "- And whose even elements are the elements of the given list in reverse order\n",
    "- Then print the new list"
   ]
  },
  {
   "cell_type": "code",
   "execution_count": null,
   "metadata": {},
   "outputs": [],
   "source": [
    "# Enter Code Here"
   ]
  },
  {
   "cell_type": "markdown",
   "metadata": {},
   "source": [
    "# End of Exercise"
   ]
  },
  {
   "cell_type": "markdown",
   "metadata": {},
   "source": [
    "# Tuples"
   ]
  },
  {
   "cell_type": "markdown",
   "metadata": {},
   "source": [
    "### Tuple are similar to lists but can not be edited after creation similar to string"
   ]
  },
  {
   "cell_type": "code",
   "execution_count": 21,
   "metadata": {},
   "outputs": [
    {
     "name": "stdout",
     "output_type": "stream",
     "text": [
      "(1, 2)\n",
      "(1, 2)\n"
     ]
    }
   ],
   "source": [
    "x = (1,2)\n",
    "print(x)\n",
    "x = 1,2\n",
    "print(x)"
   ]
  },
  {
   "cell_type": "code",
   "execution_count": 22,
   "metadata": {},
   "outputs": [
    {
     "name": "stdout",
     "output_type": "stream",
     "text": [
      "1 2\n"
     ]
    }
   ],
   "source": [
    "x = (1,2)\n",
    "a, b = x\n",
    "print(a, b)"
   ]
  },
  {
   "cell_type": "code",
   "execution_count": 23,
   "metadata": {},
   "outputs": [
    {
     "name": "stdout",
     "output_type": "stream",
     "text": [
      "1 2\n",
      "2 1\n"
     ]
    }
   ],
   "source": [
    "x, y = 1, 2\n",
    "print(x, y)\n",
    "x, y = y, x #swapping\n",
    "print(x, y)"
   ]
  },
  {
   "cell_type": "code",
   "execution_count": 24,
   "metadata": {},
   "outputs": [
    {
     "name": "stdout",
     "output_type": "stream",
     "text": [
      "[1, 2, 3] (1, 2, 3)\n"
     ]
    },
    {
     "ename": "TypeError",
     "evalue": "'str' object is not callable",
     "output_type": "error",
     "traceback": [
      "\u001b[1;31m---------------------------------------------------------------------------\u001b[0m",
      "\u001b[1;31mTypeError\u001b[0m                                 Traceback (most recent call last)",
      "\u001b[1;32mc:\\Daily use\\Materials\\Fourth_Year_Sem_1\\MI\\Lab0\\Python Material\\Python Tutorial.ipynb Cell 64\u001b[0m line \u001b[0;36m<cell line: 4>\u001b[1;34m()\u001b[0m\n\u001b[0;32m      <a href='vscode-notebook-cell:/c%3A/Daily%20use/Materials/Fourth_Year_Sem_1/MI/Lab0/Python%20Material/Python%20Tutorial.ipynb#Y120sZmlsZQ%3D%3D?line=1'>2</a>\u001b[0m \u001b[39mprint\u001b[39m(x, \u001b[39mtuple\u001b[39m(x))\n\u001b[0;32m      <a href='vscode-notebook-cell:/c%3A/Daily%20use/Materials/Fourth_Year_Sem_1/MI/Lab0/Python%20Material/Python%20Tutorial.ipynb#Y120sZmlsZQ%3D%3D?line=2'>3</a>\u001b[0m x \u001b[39m=\u001b[39m (\u001b[39m1\u001b[39m,\u001b[39m2\u001b[39m,\u001b[39m3\u001b[39m)\n\u001b[1;32m----> <a href='vscode-notebook-cell:/c%3A/Daily%20use/Materials/Fourth_Year_Sem_1/MI/Lab0/Python%20Material/Python%20Tutorial.ipynb#Y120sZmlsZQ%3D%3D?line=3'>4</a>\u001b[0m \u001b[39mprint\u001b[39m(x, \u001b[39mlist\u001b[39;49m(x))\n",
      "\u001b[1;31mTypeError\u001b[0m: 'str' object is not callable"
     ]
    }
   ],
   "source": [
    "x = [1, 2, 3]\n",
    "print(x, tuple(x))\n",
    "x = (1,2,3)\n",
    "print(x, list(x))"
   ]
  },
  {
   "cell_type": "code",
   "execution_count": null,
   "metadata": {},
   "outputs": [],
   "source": [
    "x = (1,2,3)\n",
    "y = tuple(x)\n",
    "print('x==y =', x==y)\n",
    "print('x is y =', x is y)"
   ]
  },
  {
   "cell_type": "code",
   "execution_count": null,
   "metadata": {},
   "outputs": [],
   "source": [
    "x = [1,2,3]\n",
    "y = list(x)\n",
    "print('x==y =', x==y)\n",
    "print('x is y =', x is y)"
   ]
  },
  {
   "cell_type": "code",
   "execution_count": null,
   "metadata": {},
   "outputs": [],
   "source": [
    "x = (1,2,3)\n",
    "y = (4,5,6)\n",
    "print((*x, *y, 7))"
   ]
  },
  {
   "cell_type": "markdown",
   "metadata": {},
   "source": [
    "# Sets"
   ]
  },
  {
   "cell_type": "code",
   "execution_count": null,
   "metadata": {},
   "outputs": [],
   "source": [
    "x = set() #empty set\n",
    "print(x)\n",
    "x = {1,2,3}\n",
    "print(x)"
   ]
  },
  {
   "cell_type": "code",
   "execution_count": 26,
   "metadata": {},
   "outputs": [
    {
     "name": "stdout",
     "output_type": "stream",
     "text": [
      "{1, 2, 3}\n"
     ]
    }
   ],
   "source": [
    "x = [1,2,3,1,2,1]\n",
    "print(set(x)) #sets are unique"
   ]
  },
  {
   "cell_type": "code",
   "execution_count": 25,
   "metadata": {},
   "outputs": [
    {
     "ename": "TypeError",
     "evalue": "'set' object is not subscriptable",
     "output_type": "error",
     "traceback": [
      "\u001b[1;31m---------------------------------------------------------------------------\u001b[0m",
      "\u001b[1;31mTypeError\u001b[0m                                 Traceback (most recent call last)",
      "\u001b[1;32mc:\\Daily use\\Materials\\Fourth_Year_Sem_1\\MI\\Lab0\\Python Material\\Python Tutorial.ipynb Cell 71\u001b[0m line \u001b[0;36m<cell line: 2>\u001b[1;34m()\u001b[0m\n\u001b[0;32m      <a href='vscode-notebook-cell:/c%3A/Daily%20use/Materials/Fourth_Year_Sem_1/MI/Lab0/Python%20Material/Python%20Tutorial.ipynb#Y130sZmlsZQ%3D%3D?line=0'>1</a>\u001b[0m x \u001b[39m=\u001b[39m {\u001b[39m1\u001b[39m,\u001b[39m2\u001b[39m,\u001b[39m3\u001b[39m}\n\u001b[1;32m----> <a href='vscode-notebook-cell:/c%3A/Daily%20use/Materials/Fourth_Year_Sem_1/MI/Lab0/Python%20Material/Python%20Tutorial.ipynb#Y130sZmlsZQ%3D%3D?line=1'>2</a>\u001b[0m x[\u001b[39m0\u001b[39;49m]\n",
      "\u001b[1;31mTypeError\u001b[0m: 'set' object is not subscriptable"
     ]
    }
   ],
   "source": [
    "x = {1,2,3}\n",
    "x[0] #error"
   ]
  },
  {
   "cell_type": "code",
   "execution_count": null,
   "metadata": {},
   "outputs": [],
   "source": [
    "x, y = {1,2,3}, {1,4}\n",
    "print('union =', x | y)\n",
    "print('intersection =', x & y)\n",
    "print('difference =', x - y)"
   ]
  },
  {
   "cell_type": "code",
   "execution_count": 27,
   "metadata": {},
   "outputs": [
    {
     "name": "stdout",
     "output_type": "stream",
     "text": [
      "{1, 2, 3}\n",
      "{1, 2, 3}\n",
      "{1, 2, 3, 4}\n",
      "{2, 3, 4}\n",
      "length = 3\n"
     ]
    }
   ],
   "source": [
    "x = {1,2,3}\n",
    "print(x)\n",
    "x.add(1)\n",
    "print(x)\n",
    "x.add(4)\n",
    "print(x)\n",
    "x.remove(1)\n",
    "print(x)\n",
    "print('length =', len(x))"
   ]
  },
  {
   "cell_type": "code",
   "execution_count": null,
   "metadata": {},
   "outputs": [],
   "source": [
    "x = {1,2,3}\n",
    "y = set(x)\n",
    "print('x==y =', x==y)\n",
    "print('x is y =', x is y)"
   ]
  },
  {
   "cell_type": "code",
   "execution_count": null,
   "metadata": {},
   "outputs": [],
   "source": [
    "x = {1, 2, 3}\n",
    "y = {2, 3, 4}\n",
    "print({*x, *y})"
   ]
  },
  {
   "cell_type": "markdown",
   "metadata": {},
   "source": [
    "# Exercise\n",
    "- Read a list from the user\n",
    "- Print the number of unique (different) elements in the list."
   ]
  },
  {
   "cell_type": "code",
   "execution_count": null,
   "metadata": {},
   "outputs": [],
   "source": [
    "# Enter Code Here"
   ]
  },
  {
   "cell_type": "markdown",
   "metadata": {},
   "source": [
    "# End Of Exercise"
   ]
  },
  {
   "cell_type": "markdown",
   "metadata": {},
   "source": [
    "# Dictionaries"
   ]
  },
  {
   "cell_type": "code",
   "execution_count": 28,
   "metadata": {},
   "outputs": [
    {
     "name": "stdout",
     "output_type": "stream",
     "text": [
      "{}\n",
      "{}\n",
      "{'a': 1, 2: 'Hello', (1, 2): 'world'}\n"
     ]
    }
   ],
   "source": [
    "x = {} #empty dict\n",
    "print(x)\n",
    "x = dict() #empty dict\n",
    "print(x)\n",
    "x = {'a':1, 2:'Hello', (1,2):'world'}\n",
    "print(x)"
   ]
  },
  {
   "cell_type": "code",
   "execution_count": null,
   "metadata": {},
   "outputs": [],
   "source": [
    "x = {'a':1, 2:'Hello', (1,2):'world'}\n",
    "print(x['a'])\n",
    "print(x[2])\n",
    "print(x.get(1, 'default')) #use default if key doesn't exist"
   ]
  },
  {
   "cell_type": "code",
   "execution_count": null,
   "metadata": {},
   "outputs": [],
   "source": [
    "x = {}\n",
    "x['a'] = 'String A'\n",
    "x[1] = 'Integer 1'\n",
    "x[(1,2)] = \"It takes tuples too\"\n",
    "x[None] = 'And Nones'\n",
    "x[False] = 'And Booleans'\n",
    "print(x)"
   ]
  },
  {
   "cell_type": "code",
   "execution_count": null,
   "metadata": {},
   "outputs": [],
   "source": [
    "x = {}\n",
    "x[[1,2,3]] = 'No Lists :(' #error\n",
    "x[{1,2,3}] = \"No Sets :(\" #error\n",
    "x[x] = 'No Dicts :(' #error"
   ]
  },
  {
   "cell_type": "code",
   "execution_count": null,
   "metadata": {},
   "outputs": [],
   "source": [
    "x = {}\n",
    "x[\"me\"] = x\n",
    "print(x)"
   ]
  },
  {
   "cell_type": "code",
   "execution_count": null,
   "metadata": {},
   "outputs": [],
   "source": [
    "x = {'a':1, 2:'Hello', (1,2):'world'}\n",
    "print(x)\n",
    "del x['a']\n",
    "print(x)"
   ]
  },
  {
   "cell_type": "code",
   "execution_count": null,
   "metadata": {},
   "outputs": [],
   "source": [
    "x = {'a':1, 2:'Hello', (1,2):'world'}\n",
    "y = {'a':'another', 'b':100}\n",
    "x.update(**y)\n",
    "print(x)\n",
    "x.update(bye=10)\n",
    "print(x)"
   ]
  },
  {
   "cell_type": "code",
   "execution_count": 29,
   "metadata": {},
   "outputs": [
    {
     "name": "stdout",
     "output_type": "stream",
     "text": [
      "{'a': 1, 2: 'Hello', (1, 2): 'world'}\n"
     ]
    },
    {
     "ename": "TypeError",
     "evalue": "'str' object is not callable",
     "output_type": "error",
     "traceback": [
      "\u001b[1;31m---------------------------------------------------------------------------\u001b[0m",
      "\u001b[1;31mTypeError\u001b[0m                                 Traceback (most recent call last)",
      "\u001b[1;32mc:\\Daily use\\Materials\\Fourth_Year_Sem_1\\MI\\Lab0\\Python Material\\Python Tutorial.ipynb Cell 87\u001b[0m line \u001b[0;36m<cell line: 4>\u001b[1;34m()\u001b[0m\n\u001b[0;32m      <a href='vscode-notebook-cell:/c%3A/Daily%20use/Materials/Fourth_Year_Sem_1/MI/Lab0/Python%20Material/Python%20Tutorial.ipynb#Y152sZmlsZQ%3D%3D?line=1'>2</a>\u001b[0m y \u001b[39m=\u001b[39m \u001b[39mdict\u001b[39m(x)\n\u001b[0;32m      <a href='vscode-notebook-cell:/c%3A/Daily%20use/Materials/Fourth_Year_Sem_1/MI/Lab0/Python%20Material/Python%20Tutorial.ipynb#Y152sZmlsZQ%3D%3D?line=2'>3</a>\u001b[0m \u001b[39mprint\u001b[39m(y)\n\u001b[1;32m----> <a href='vscode-notebook-cell:/c%3A/Daily%20use/Materials/Fourth_Year_Sem_1/MI/Lab0/Python%20Material/Python%20Tutorial.ipynb#Y152sZmlsZQ%3D%3D?line=3'>4</a>\u001b[0m \u001b[39mprint\u001b[39m(\u001b[39mlist\u001b[39;49m(y))\n\u001b[0;32m      <a href='vscode-notebook-cell:/c%3A/Daily%20use/Materials/Fourth_Year_Sem_1/MI/Lab0/Python%20Material/Python%20Tutorial.ipynb#Y152sZmlsZQ%3D%3D?line=4'>5</a>\u001b[0m \u001b[39mprint\u001b[39m(y\u001b[39m.\u001b[39mkeys())\n\u001b[0;32m      <a href='vscode-notebook-cell:/c%3A/Daily%20use/Materials/Fourth_Year_Sem_1/MI/Lab0/Python%20Material/Python%20Tutorial.ipynb#Y152sZmlsZQ%3D%3D?line=5'>6</a>\u001b[0m \u001b[39mprint\u001b[39m(y\u001b[39m.\u001b[39mvalues())\n",
      "\u001b[1;31mTypeError\u001b[0m: 'str' object is not callable"
     ]
    }
   ],
   "source": [
    "x = [('a',1), (2,'Hello'), ((1,2),'world')]\n",
    "y = dict(x)\n",
    "print(y)\n",
    "print(list(y))\n",
    "print(y.keys())\n",
    "print(y.values())\n",
    "print(y.items())"
   ]
  },
  {
   "cell_type": "code",
   "execution_count": null,
   "metadata": {},
   "outputs": [],
   "source": [
    "x = {'a':1, 'b':2}\n",
    "y = {'b':6, 'c':7}\n",
    "print({**x, **y})\n",
    "print({**y, **x, 'c':9})"
   ]
  },
  {
   "cell_type": "markdown",
   "metadata": {},
   "source": [
    "# None"
   ]
  },
  {
   "cell_type": "code",
   "execution_count": null,
   "metadata": {},
   "outputs": [],
   "source": [
    "x = None\n",
    "print(x)"
   ]
  },
  {
   "cell_type": "code",
   "execution_count": null,
   "metadata": {},
   "outputs": [],
   "source": [
    "x = None\n",
    "print(x is None)\n",
    "x = 1\n",
    "print(x is None)"
   ]
  },
  {
   "cell_type": "code",
   "execution_count": null,
   "metadata": {},
   "outputs": [],
   "source": [
    "x = None\n",
    "print(x or \"Hello\")\n",
    "x = 'Something'\n",
    "print(x or \"Hello\")"
   ]
  },
  {
   "cell_type": "markdown",
   "metadata": {},
   "source": [
    "# IF Conditions"
   ]
  },
  {
   "cell_type": "code",
   "execution_count": null,
   "metadata": {},
   "outputs": [],
   "source": [
    "y = 5\n",
    "if y > 10:\n",
    "    print('y is less than 10')\n",
    "    print('Hello')"
   ]
  },
  {
   "cell_type": "code",
   "execution_count": null,
   "metadata": {},
   "outputs": [],
   "source": [
    "y = 15\n",
    "if y < 10:\n",
    "    print('y is less than 10')\n",
    "else:\n",
    "    print('y is larger than 10')"
   ]
  },
  {
   "cell_type": "code",
   "execution_count": null,
   "metadata": {},
   "outputs": [],
   "source": [
    "y = 15\n",
    "if y < 10:\n",
    "    print('y is less than 10')\n",
    "elif y < 20:\n",
    "    print('y is less than 20 and larger than 10')\n",
    "else:\n",
    "    print('y is larger than 20')"
   ]
  },
  {
   "cell_type": "code",
   "execution_count": null,
   "metadata": {},
   "outputs": [],
   "source": [
    "y = 15\n",
    "if y < 10:\n",
    "    print('y is less than 10')\n",
    "elif y < 20:\n",
    "    pass\n",
    "else:\n",
    "    print('y is larger than 20')"
   ]
  },
  {
   "cell_type": "code",
   "execution_count": null,
   "metadata": {},
   "outputs": [],
   "source": [
    "y = 15\n",
    "print('y is less than 10' if y < 10 else 'y is larger than 10')"
   ]
  },
  {
   "cell_type": "markdown",
   "metadata": {},
   "source": [
    "# Exercise\n",
    "- Read a number from the user\n",
    "- Print whether it is odd or even"
   ]
  },
  {
   "cell_type": "code",
   "execution_count": null,
   "metadata": {},
   "outputs": [],
   "source": [
    "# Enter Code Here"
   ]
  },
  {
   "cell_type": "markdown",
   "metadata": {},
   "source": [
    "# End of Exercise"
   ]
  },
  {
   "cell_type": "markdown",
   "metadata": {},
   "source": [
    "# While Loops"
   ]
  },
  {
   "cell_type": "code",
   "execution_count": null,
   "metadata": {
    "scrolled": true
   },
   "outputs": [],
   "source": [
    "i = 1\n",
    "while i < 1000:\n",
    "    print(i)\n",
    "    i *= 2"
   ]
  },
  {
   "cell_type": "code",
   "execution_count": null,
   "metadata": {},
   "outputs": [],
   "source": [
    "i = 1\n",
    "while True:\n",
    "    print(i)\n",
    "    i *= 2\n",
    "    if i >= 1000:\n",
    "        break"
   ]
  },
  {
   "cell_type": "code",
   "execution_count": null,
   "metadata": {},
   "outputs": [],
   "source": [
    "i = 0\n",
    "while i < 10:\n",
    "    i+=1\n",
    "    if i < 5:\n",
    "        continue\n",
    "    print(i)"
   ]
  },
  {
   "cell_type": "code",
   "execution_count": null,
   "metadata": {},
   "outputs": [],
   "source": [
    "i = 0\n",
    "while i < 5:\n",
    "    i+=1\n",
    "    print(i)\n",
    "else:\n",
    "    print('You can have an else too by the way')"
   ]
  },
  {
   "cell_type": "code",
   "execution_count": null,
   "metadata": {},
   "outputs": [],
   "source": [
    "i = 0\n",
    "while i < 5:\n",
    "    i+=1\n",
    "    print(i)\n",
    "    if i == 4:\n",
    "        break\n",
    "else:\n",
    "    print('You can have an else too by the way')"
   ]
  },
  {
   "cell_type": "markdown",
   "metadata": {},
   "source": [
    "# Exercise\n",
    "- Get a number from the user\n",
    "- List all of its prime factors"
   ]
  },
  {
   "cell_type": "code",
   "execution_count": null,
   "metadata": {},
   "outputs": [],
   "source": [
    "# Enter Code Here"
   ]
  },
  {
   "cell_type": "markdown",
   "metadata": {},
   "source": [
    "# End of Exercise"
   ]
  },
  {
   "cell_type": "markdown",
   "metadata": {},
   "source": [
    "# For loops"
   ]
  },
  {
   "cell_type": "code",
   "execution_count": null,
   "metadata": {},
   "outputs": [],
   "source": [
    "items = [1, 2.5, \"Hello\", True]\n",
    "for item in items:\n",
    "    print(item)\n",
    "#you can use break and continue here too"
   ]
  },
  {
   "cell_type": "code",
   "execution_count": null,
   "metadata": {},
   "outputs": [],
   "source": [
    "for i in range(10):\n",
    "    print(i)"
   ]
  },
  {
   "cell_type": "code",
   "execution_count": null,
   "metadata": {},
   "outputs": [],
   "source": [
    "for i in range(5,10):\n",
    "    print(i)"
   ]
  },
  {
   "cell_type": "code",
   "execution_count": null,
   "metadata": {},
   "outputs": [],
   "source": [
    "for i in range(5,10,2):\n",
    "    print(i)"
   ]
  },
  {
   "cell_type": "code",
   "execution_count": null,
   "metadata": {},
   "outputs": [],
   "source": [
    "for i in range(10,5,-1):\n",
    "    print(i)"
   ]
  },
  {
   "cell_type": "code",
   "execution_count": null,
   "metadata": {
    "scrolled": true
   },
   "outputs": [],
   "source": [
    "for i, j in [(1,'a'), (2,'b'), (3, 'c')]:\n",
    "    print(i, j)"
   ]
  },
  {
   "cell_type": "code",
   "execution_count": null,
   "metadata": {},
   "outputs": [],
   "source": [
    "d = {1:'a', 2:'b', 3:'c'}\n",
    "for key, value in d.items():\n",
    "    print(key,':',value)"
   ]
  },
  {
   "cell_type": "code",
   "execution_count": null,
   "metadata": {},
   "outputs": [],
   "source": [
    "items = [1, 2.5, \"Hello\", True]\n",
    "for index, item in enumerate(items):\n",
    "    print(index,\":\",item)"
   ]
  },
  {
   "cell_type": "markdown",
   "metadata": {},
   "source": [
    "# Exercise\n",
    "- Get a list from the user.\n",
    "- Print all the items that only appears once in the list."
   ]
  },
  {
   "cell_type": "code",
   "execution_count": null,
   "metadata": {},
   "outputs": [],
   "source": [
    "# Enter Code Here"
   ]
  },
  {
   "cell_type": "markdown",
   "metadata": {},
   "source": [
    "# End of Exercise"
   ]
  },
  {
   "cell_type": "markdown",
   "metadata": {},
   "source": [
    "# List Comprehension"
   ]
  },
  {
   "cell_type": "code",
   "execution_count": null,
   "metadata": {},
   "outputs": [],
   "source": [
    "x = [i for i in range(10)]\n",
    "print(x)"
   ]
  },
  {
   "cell_type": "code",
   "execution_count": null,
   "metadata": {},
   "outputs": [],
   "source": [
    "x = [i*i for i in range(10)]\n",
    "print(x)"
   ]
  },
  {
   "cell_type": "code",
   "execution_count": null,
   "metadata": {},
   "outputs": [],
   "source": [
    "x = [i for i in range(10) if i%2 == 0]\n",
    "print(x)"
   ]
  },
  {
   "cell_type": "code",
   "execution_count": null,
   "metadata": {},
   "outputs": [],
   "source": [
    "x = [1,2.5,\"Hello\",[3,4]]\n",
    "y = [i*2 for i in x]\n",
    "print(y)"
   ]
  },
  {
   "cell_type": "code",
   "execution_count": null,
   "metadata": {},
   "outputs": [],
   "source": [
    "x = [[j for j in range(i)] for i in range(5)]\n",
    "print(x)\n",
    "x = [j for i in range(5) for j in range(i)]\n",
    "print(x)"
   ]
  },
  {
   "cell_type": "code",
   "execution_count": null,
   "metadata": {},
   "outputs": [],
   "source": [
    "l = [[1,2,3],[4,5,6],[7,8,9]]\n",
    "print(l)\n",
    "print([j for i in l for j in i])"
   ]
  },
  {
   "cell_type": "code",
   "execution_count": 30,
   "metadata": {},
   "outputs": [
    {
     "name": "stdout",
     "output_type": "stream",
     "text": [
      "[5, 7, 9]\n"
     ]
    }
   ],
   "source": [
    "a = [1,2,3]\n",
    "b = [4,5,6,7]\n",
    "x = [i+j for i, j in zip(a,b)]\n",
    "print(x)"
   ]
  },
  {
   "cell_type": "code",
   "execution_count": null,
   "metadata": {},
   "outputs": [],
   "source": [
    "l = [[1,2,3],[4,5,6],[7,8,9]]\n",
    "x = [sum(i) for i in l]\n",
    "print(x)\n",
    "x = [sum(i) for i in zip(*l)]\n",
    "print(x)"
   ]
  },
  {
   "cell_type": "markdown",
   "metadata": {},
   "source": [
    "# Exercise\n",
    "- Do a Matrix-by-Vector multiplication in one line"
   ]
  },
  {
   "cell_type": "code",
   "execution_count": null,
   "metadata": {},
   "outputs": [],
   "source": [
    "# Enter Code Here"
   ]
  },
  {
   "cell_type": "markdown",
   "metadata": {},
   "source": [
    "# Extra\n",
    "- Do a Matrix-by-Matrix multiplication in one line"
   ]
  },
  {
   "cell_type": "code",
   "execution_count": null,
   "metadata": {},
   "outputs": [],
   "source": [
    "# Enter Code Here"
   ]
  },
  {
   "cell_type": "markdown",
   "metadata": {},
   "source": [
    "# End of Exercise"
   ]
  },
  {
   "cell_type": "markdown",
   "metadata": {},
   "source": [
    "# Dictionary Comprehension"
   ]
  },
  {
   "cell_type": "code",
   "execution_count": 1,
   "metadata": {},
   "outputs": [
    {
     "name": "stdout",
     "output_type": "stream",
     "text": [
      "{1: 4, 2: 5, 3: 6}\n"
     ]
    }
   ],
   "source": [
    "a = [1,2,3]\n",
    "b = [4,5,6,7]\n",
    "x = {i:j for i, j in zip(a,b)}\n",
    "print(x)"
   ]
  },
  {
   "cell_type": "code",
   "execution_count": null,
   "metadata": {},
   "outputs": [],
   "source": [
    "d = {'a':1, 'b':2, 'c':3}\n",
    "x = {j:i for i, j in d.items()}\n",
    "print(x)"
   ]
  },
  {
   "cell_type": "code",
   "execution_count": null,
   "metadata": {},
   "outputs": [],
   "source": [
    "x = {i*i:i for i in range(10)}\n",
    "print(x)"
   ]
  },
  {
   "cell_type": "markdown",
   "metadata": {},
   "source": [
    "# Set and Tuple Comprehension"
   ]
  },
  {
   "cell_type": "code",
   "execution_count": null,
   "metadata": {},
   "outputs": [],
   "source": [
    "x = {i for i in range(10)}\n",
    "print(x)"
   ]
  },
  {
   "cell_type": "code",
   "execution_count": null,
   "metadata": {},
   "outputs": [],
   "source": [
    "x = tuple(i for i in range(10))\n",
    "print(x)"
   ]
  },
  {
   "cell_type": "markdown",
   "metadata": {},
   "source": [
    "# Functions"
   ]
  },
  {
   "cell_type": "code",
   "execution_count": 31,
   "metadata": {},
   "outputs": [
    {
     "name": "stdout",
     "output_type": "stream",
     "text": [
      "This is Sparta\n"
     ]
    }
   ],
   "source": [
    "def print_this(x):\n",
    "    print(\"This is\", x)\n",
    "\n",
    "print_this(\"Sparta\")"
   ]
  },
  {
   "cell_type": "code",
   "execution_count": 32,
   "metadata": {},
   "outputs": [
    {
     "name": "stdout",
     "output_type": "stream",
     "text": [
      "100\n"
     ]
    }
   ],
   "source": [
    "def sqr(x):\n",
    "    return x*x\n",
    "\n",
    "print(sqr(10))"
   ]
  },
  {
   "cell_type": "code",
   "execution_count": null,
   "metadata": {},
   "outputs": [
    {
     "name": "stdout",
     "output_type": "stream",
     "text": [
      "1000\n",
      "1000\n",
      "1000\n"
     ]
    }
   ],
   "source": [
    "def power(x, n):\n",
    "    return x**n\n",
    "\n",
    "print(power(10,3))\n",
    "print(power(10,n=3))\n",
    "print(power(n=3,x=10))"
   ]
  },
  {
   "cell_type": "code",
   "execution_count": null,
   "metadata": {},
   "outputs": [
    {
     "name": "stdout",
     "output_type": "stream",
     "text": [
      "1000\n"
     ]
    }
   ],
   "source": [
    "print(power(10,3))"
   ]
  },
  {
   "cell_type": "code",
   "execution_count": 33,
   "metadata": {},
   "outputs": [
    {
     "name": "stdout",
     "output_type": "stream",
     "text": [
      "(16, 2.0)\n"
     ]
    }
   ],
   "source": [
    "def sqr_and_root(x):\n",
    "    return x*x, x**0.5\n",
    "\n",
    "print(sqr_and_root(4))"
   ]
  },
  {
   "cell_type": "code",
   "execution_count": null,
   "metadata": {},
   "outputs": [
    {
     "name": "stdout",
     "output_type": "stream",
     "text": [
      "square is 16 and root is 2.0\n",
      "square is 256\n"
     ]
    }
   ],
   "source": [
    "s, r = sqr_and_root(4)\n",
    "print(\"square is\", s, \"and root is\", r)\n",
    "\n",
    "s, _ = sqr_and_root(16) # _ is a valid variable name, usually used to mean don't care\n",
    "print(\"square is\", s)"
   ]
  },
  {
   "cell_type": "code",
   "execution_count": null,
   "metadata": {},
   "outputs": [
    {
     "name": "stdout",
     "output_type": "stream",
     "text": [
      "(16, 2.0)\n",
      "16\n"
     ]
    }
   ],
   "source": [
    "def sqr_and_root(x):\n",
    "    if x >= 0:\n",
    "        return x*x, x**0.5\n",
    "    else:\n",
    "        return x*x\n",
    "\n",
    "print(sqr_and_root(4))\n",
    "print(sqr_and_root(-4))"
   ]
  },
  {
   "cell_type": "code",
   "execution_count": null,
   "metadata": {},
   "outputs": [
    {
     "ename": "TypeError",
     "evalue": "cannot unpack non-iterable int object",
     "output_type": "error",
     "traceback": [
      "\u001b[1;31m---------------------------------------------------------------------------\u001b[0m",
      "\u001b[1;31mTypeError\u001b[0m                                 Traceback (most recent call last)",
      "\u001b[1;32m~\\AppData\\Local\\Temp\\ipykernel_18800\\3651569503.py\u001b[0m in \u001b[0;36m<module>\u001b[1;34m\u001b[0m\n\u001b[1;32m----> 1\u001b[1;33m \u001b[0ms\u001b[0m\u001b[1;33m,\u001b[0m \u001b[0mr\u001b[0m \u001b[1;33m=\u001b[0m \u001b[0msqr_and_root\u001b[0m\u001b[1;33m(\u001b[0m\u001b[1;33m-\u001b[0m\u001b[1;36m4\u001b[0m\u001b[1;33m)\u001b[0m \u001b[1;31m#error\u001b[0m\u001b[1;33m\u001b[0m\u001b[1;33m\u001b[0m\u001b[0m\n\u001b[0m",
      "\u001b[1;31mTypeError\u001b[0m: cannot unpack non-iterable int object"
     ]
    }
   ],
   "source": [
    "s, r = sqr_and_root(-4) #error lehhhhhhhhhh"
   ]
  },
  {
   "cell_type": "code",
   "execution_count": 34,
   "metadata": {},
   "outputs": [
    {
     "name": "stdout",
     "output_type": "stream",
     "text": [
      "None\n"
     ]
    }
   ],
   "source": [
    "def do_nothing():\n",
    "    pass\n",
    "\n",
    "print(do_nothing())"
   ]
  },
  {
   "cell_type": "code",
   "execution_count": 35,
   "metadata": {},
   "outputs": [
    {
     "name": "stdout",
     "output_type": "stream",
     "text": [
      "12\n",
      "60\n"
     ]
    },
    {
     "ename": "TypeError",
     "evalue": "prod() missing 1 required positional argument: 'z'",
     "output_type": "error",
     "traceback": [
      "\u001b[1;31m---------------------------------------------------------------------------\u001b[0m",
      "\u001b[1;31mTypeError\u001b[0m                                 Traceback (most recent call last)",
      "\u001b[1;32mc:\\Daily use\\Materials\\Fourth_Year_Sem_1\\MI\\Lab0\\Python Material\\Python Tutorial.ipynb Cell 154\u001b[0m line \u001b[0;36m<cell line: 10>\u001b[1;34m()\u001b[0m\n\u001b[0;32m      <a href='vscode-notebook-cell:/c%3A/Daily%20use/Materials/Fourth_Year_Sem_1/MI/Lab0/Python%20Material/Python%20Tutorial.ipynb#Y306sZmlsZQ%3D%3D?line=6'>7</a>\u001b[0m     \u001b[39mreturn\u001b[39;00m x\u001b[39m*\u001b[39my\u001b[39m*\u001b[39mz\n\u001b[0;32m      <a href='vscode-notebook-cell:/c%3A/Daily%20use/Materials/Fourth_Year_Sem_1/MI/Lab0/Python%20Material/Python%20Tutorial.ipynb#Y306sZmlsZQ%3D%3D?line=8'>9</a>\u001b[0m \u001b[39mprint\u001b[39m(prod(\u001b[39m3\u001b[39m,\u001b[39m4\u001b[39m,\u001b[39m5\u001b[39m))\n\u001b[1;32m---> <a href='vscode-notebook-cell:/c%3A/Daily%20use/Materials/Fourth_Year_Sem_1/MI/Lab0/Python%20Material/Python%20Tutorial.ipynb#Y306sZmlsZQ%3D%3D?line=9'>10</a>\u001b[0m \u001b[39mprint\u001b[39m(prod(\u001b[39m3\u001b[39;49m,\u001b[39m4\u001b[39;49m))\n",
      "\u001b[1;31mTypeError\u001b[0m: prod() missing 1 required positional argument: 'z'"
     ]
    }
   ],
   "source": [
    "def prod(x,y):\n",
    "    return x*y\n",
    "\n",
    "print(prod(3,4))\n",
    "\n",
    "def prod(x,y,z):\n",
    "    return x*y*z\n",
    "\n",
    "print(prod(3,4,5))\n",
    "print(prod(3,4))"
   ]
  },
  {
   "cell_type": "code",
   "execution_count": null,
   "metadata": {},
   "outputs": [
    {
     "name": "stdout",
     "output_type": "stream",
     "text": [
      "60\n",
      "12\n"
     ]
    }
   ],
   "source": [
    "def prod(x,y,z=1):\n",
    "    return x*y*z\n",
    "\n",
    "print(prod(3,4,5))\n",
    "print(prod(3,4))"
   ]
  },
  {
   "cell_type": "code",
   "execution_count": null,
   "metadata": {},
   "outputs": [
    {
     "name": "stdout",
     "output_type": "stream",
     "text": [
      "60\n",
      "12\n",
      "3\n",
      "1\n"
     ]
    }
   ],
   "source": [
    "def prod(*l):\n",
    "    p = 1\n",
    "    for i in l:\n",
    "        p *= i\n",
    "    return p\n",
    "\n",
    "print(prod(3,4,5))\n",
    "print(prod(3,4))\n",
    "print(prod(3))\n",
    "print(prod())"
   ]
  },
  {
   "cell_type": "code",
   "execution_count": 36,
   "metadata": {},
   "outputs": [
    {
     "name": "stdout",
     "output_type": "stream",
     "text": [
      "6\n",
      "6\n"
     ]
    }
   ],
   "source": [
    "def prod(x,y,z=1):\n",
    "    return x*y*z\n",
    "\n",
    "l = [1,2,3]\n",
    "print(prod(*l))\n",
    "\n",
    "def prod(*l):\n",
    "    p = 1\n",
    "    for i in l:\n",
    "        p *= i\n",
    "    return p\n",
    "\n",
    "l = [1,2,3]\n",
    "print(prod(*l))"
   ]
  },
  {
   "cell_type": "code",
   "execution_count": null,
   "metadata": {},
   "outputs": [],
   "source": [
    "def power(x, n):\n",
    "    return x**n\n",
    "\n",
    "d = {'x':10, 'n': 3}\n",
    "print(power(**d))"
   ]
  },
  {
   "cell_type": "code",
   "execution_count": null,
   "metadata": {},
   "outputs": [],
   "source": [
    "d = {'x':10}\n",
    "print(power(**d))"
   ]
  },
  {
   "cell_type": "code",
   "execution_count": null,
   "metadata": {},
   "outputs": [
    {
     "ename": "TypeError",
     "evalue": "power() got an unexpected keyword argument 'a'",
     "output_type": "error",
     "traceback": [
      "\u001b[1;31m---------------------------------------------------------------------------\u001b[0m",
      "\u001b[1;31mTypeError\u001b[0m                                 Traceback (most recent call last)",
      "\u001b[1;32m~\\AppData\\Local\\Temp\\ipykernel_18800\\17529998.py\u001b[0m in \u001b[0;36m<module>\u001b[1;34m\u001b[0m\n\u001b[0;32m      1\u001b[0m \u001b[0md\u001b[0m \u001b[1;33m=\u001b[0m \u001b[1;33m{\u001b[0m\u001b[1;34m'x'\u001b[0m\u001b[1;33m:\u001b[0m\u001b[1;36m10\u001b[0m\u001b[1;33m,\u001b[0m \u001b[1;34m'n'\u001b[0m\u001b[1;33m:\u001b[0m\u001b[1;36m3\u001b[0m\u001b[1;33m,\u001b[0m \u001b[1;34m'a'\u001b[0m\u001b[1;33m:\u001b[0m\u001b[1;36m4\u001b[0m\u001b[1;33m}\u001b[0m\u001b[1;33m\u001b[0m\u001b[1;33m\u001b[0m\u001b[0m\n\u001b[1;32m----> 2\u001b[1;33m \u001b[0mprint\u001b[0m\u001b[1;33m(\u001b[0m\u001b[0mpower\u001b[0m\u001b[1;33m(\u001b[0m\u001b[1;33m**\u001b[0m\u001b[0md\u001b[0m\u001b[1;33m)\u001b[0m\u001b[1;33m)\u001b[0m\u001b[1;33m\u001b[0m\u001b[1;33m\u001b[0m\u001b[0m\n\u001b[0m",
      "\u001b[1;31mTypeError\u001b[0m: power() got an unexpected keyword argument 'a'"
     ]
    }
   ],
   "source": [
    "d = {'x':10, 'n':3, 'a':4}\n",
    "print(power(**d))"
   ]
  },
  {
   "cell_type": "code",
   "execution_count": null,
   "metadata": {},
   "outputs": [],
   "source": [
    "def prod(x,y,z=1):\n",
    "    return x*y*z\n",
    "\n",
    "d = {'x':3, 'y':4, 'z':5}\n",
    "print(prod(**d))\n",
    "\n",
    "d = {'x':3, 'y':4}\n",
    "print(prod(**d))"
   ]
  },
  {
   "cell_type": "code",
   "execution_count": null,
   "metadata": {},
   "outputs": [
    {
     "name": "stdout",
     "output_type": "stream",
     "text": [
      "I received 3 elements\n",
      "They are {'hello': 1, 'bye': 'world', 'x': True}\n"
     ]
    }
   ],
   "source": [
    "def misc(**k):\n",
    "    print('I received %i elements' % len(k))\n",
    "    print('They are', k)\n",
    "\n",
    "misc(hello=1, bye='world', x=True)"
   ]
  },
  {
   "cell_type": "code",
   "execution_count": null,
   "metadata": {},
   "outputs": [
    {
     "name": "stdout",
     "output_type": "stream",
     "text": [
      "0 ['hello']\n"
     ]
    }
   ],
   "source": [
    "def do_changes(x,l):\n",
    "    x += 1\n",
    "    l.append('hello')\n",
    "\n",
    "x, l = 0, []\n",
    "do_changes(x,l)\n",
    "print(x, l)"
   ]
  },
  {
   "cell_type": "code",
   "execution_count": null,
   "metadata": {},
   "outputs": [
    {
     "name": "stdout",
     "output_type": "stream",
     "text": [
      "0 []\n"
     ]
    }
   ],
   "source": [
    "def do_changes(x,l):\n",
    "    x += 1\n",
    "    l = l + ['hello']\n",
    "\n",
    "x, l = 0, []\n",
    "do_changes(x,l)\n",
    "print(x, l)"
   ]
  },
  {
   "cell_type": "code",
   "execution_count": null,
   "metadata": {},
   "outputs": [],
   "source": [
    "def dbl(x):\n",
    "    return x*2\n",
    "\n",
    "def sqr(x):\n",
    "    return x*x\n",
    "\n",
    "def apply_and_sum(l, fn):\n",
    "    return sum(fn(i) for i in l)\n",
    "\n",
    "print(apply_and_sum([1,2,3], dbl))\n",
    "print(apply_and_sum([1,2,3], sqr))"
   ]
  },
  {
   "cell_type": "code",
   "execution_count": null,
   "metadata": {},
   "outputs": [
    {
     "name": "stdout",
     "output_type": "stream",
     "text": [
      "12\n",
      "14\n",
      "6\n"
     ]
    }
   ],
   "source": [
    "dbl = lambda x: x*2\n",
    "sqr = lambda x: x*x\n",
    "\n",
    "def apply_and_sum(l, fn = lambda x: x):\n",
    "    return sum(fn(i) for i in l)\n",
    "\n",
    "print(apply_and_sum([1,2,3], dbl))\n",
    "print(apply_and_sum([1,2,3], sqr))\n",
    "print(apply_and_sum([1,2,3]))"
   ]
  },
  {
   "cell_type": "code",
   "execution_count": null,
   "metadata": {},
   "outputs": [
    {
     "name": "stdout",
     "output_type": "stream",
     "text": [
      "5\n",
      "11\n"
     ]
    }
   ],
   "source": [
    "no_param = lambda:5\n",
    "print(no_param())\n",
    "\n",
    "two_param = lambda x,y:x+y\n",
    "print(two_param(5, 6))"
   ]
  },
  {
   "cell_type": "markdown",
   "metadata": {},
   "source": [
    "# Exercise\n",
    "- write a reduction function. e.g. reduce([1,2,3,4], lambda x,y: x*y) = 24"
   ]
  },
  {
   "cell_type": "code",
   "execution_count": null,
   "metadata": {},
   "outputs": [],
   "source": [
    "# Enter Code Here\n",
    "def reduce(l, fn = lambda x,y : x*y):\n",
    "    return 2*sum(fn(i) for i in l)"
   ]
  },
  {
   "cell_type": "markdown",
   "metadata": {},
   "source": [
    "# End of Exercise"
   ]
  },
  {
   "cell_type": "markdown",
   "metadata": {},
   "source": [
    "# Variable Scope"
   ]
  },
  {
   "cell_type": "code",
   "execution_count": null,
   "metadata": {},
   "outputs": [
    {
     "name": "stdout",
     "output_type": "stream",
     "text": [
      "1\n",
      "hello 2\n",
      "1\n"
     ]
    }
   ],
   "source": [
    "def hello():\n",
    "    x = 2\n",
    "    print(\"hello\", x)\n",
    "\n",
    "x=1\n",
    "print(x)\n",
    "hello()\n",
    "print(x)"
   ]
  },
  {
   "cell_type": "code",
   "execution_count": null,
   "metadata": {},
   "outputs": [
    {
     "name": "stdout",
     "output_type": "stream",
     "text": [
      "global 1\n",
      "hello 2\n",
      "global 2\n"
     ]
    }
   ],
   "source": [
    "def hello():\n",
    "    global x\n",
    "    x = 2\n",
    "    print(\"hello\", x)\n",
    "\n",
    "x=1\n",
    "print(\"global\", x)\n",
    "hello()\n",
    "print(\"global\", x)"
   ]
  },
  {
   "cell_type": "code",
   "execution_count": null,
   "metadata": {},
   "outputs": [],
   "source": [
    "def hello():\n",
    "    x = 2\n",
    "    \n",
    "    def bye():\n",
    "        x = 3\n",
    "        print(\"bye\", x)\n",
    "    \n",
    "    print(\"hello\", x)\n",
    "    bye()\n",
    "    print(\"hello\", x)\n",
    "    \n",
    "\n",
    "x=1\n",
    "print(\"global\", x)\n",
    "hello()\n",
    "print(\"global\", x)"
   ]
  },
  {
   "cell_type": "code",
   "execution_count": null,
   "metadata": {},
   "outputs": [
    {
     "name": "stdout",
     "output_type": "stream",
     "text": [
      "global 1\n",
      "hello 2\n",
      "bye 3\n",
      "hello 2\n",
      "global 3\n"
     ]
    }
   ],
   "source": [
    "def hello():\n",
    "    x = 2\n",
    "    \n",
    "    def bye():\n",
    "        global x\n",
    "        x = 3\n",
    "        print(\"bye\", x)\n",
    "    \n",
    "    print(\"hello\", x)\n",
    "    bye()\n",
    "    print(\"hello\", x)\n",
    "    \n",
    "\n",
    "x=1\n",
    "print(\"global\", x)\n",
    "hello()\n",
    "print(\"global\", x) # ezay tl3t 3 msh 2"
   ]
  },
  {
   "cell_type": "code",
   "execution_count": null,
   "metadata": {},
   "outputs": [
    {
     "name": "stdout",
     "output_type": "stream",
     "text": [
      "global 1\n",
      "hello 2\n",
      "bye 3\n",
      "hello 3\n",
      "global 1\n"
     ]
    }
   ],
   "source": [
    "# msh fahma\n",
    "def hello():\n",
    "    x = 2\n",
    "    \n",
    "    def bye():\n",
    "        nonlocal x\n",
    "        x = 3\n",
    "        print(\"bye\", x)\n",
    "    \n",
    "    print(\"hello\", x)\n",
    "    bye()\n",
    "    print(\"hello\", x)\n",
    "    \n",
    "\n",
    "x=1\n",
    "print(\"global\", x)\n",
    "hello()\n",
    "print(\"global\", x)"
   ]
  },
  {
   "cell_type": "markdown",
   "metadata": {},
   "source": [
    "### Note: you can read a variable from an outer scope with global or nonloacal. They are only neccessary for variable assignment."
   ]
  },
  {
   "cell_type": "markdown",
   "metadata": {},
   "source": [
    "# Common Mistakes"
   ]
  },
  {
   "cell_type": "code",
   "execution_count": null,
   "metadata": {},
   "outputs": [],
   "source": [
    "# msh fahma\n",
    "def addSeq(n, l=[]):\n",
    "    while n != 0:\n",
    "        l.append(n)\n",
    "        n //= 2\n",
    "    return l\n",
    "\n",
    "print(addSeq(8, ['Hello']))\n",
    "print(addSeq(8))\n",
    "print(addSeq(8))\n",
    "print(addSeq(8))\n",
    "print(addSeq(8,[]))\n",
    "print(addSeq(8))"
   ]
  },
  {
   "cell_type": "markdown",
   "metadata": {},
   "source": [
    "# ANSWER BELOW\n",
    "\n",
    "# ANSWER BELOW\n",
    "\n",
    "# ANSWER BELOW\n",
    "\n",
    "# ANSWER BELOW"
   ]
  },
  {
   "cell_type": "code",
   "execution_count": null,
   "metadata": {},
   "outputs": [],
   "source": [
    "def addSeq(n, l=None):\n",
    "    l = l or []\n",
    "    while n != 0:\n",
    "        l.append(n)\n",
    "        n //= 2\n",
    "    return l\n",
    "\n",
    "print(addSeq(8, ['Hello']))\n",
    "print(addSeq(8))\n",
    "print(addSeq(8))\n",
    "print(addSeq(8))\n",
    "print(addSeq(8,[]))\n",
    "print(addSeq(8))"
   ]
  },
  {
   "cell_type": "code",
   "execution_count": null,
   "metadata": {},
   "outputs": [],
   "source": [
    "l = [[]]*4\n",
    "l[0].append(10)\n",
    "\n",
    "print(l)"
   ]
  },
  {
   "cell_type": "markdown",
   "metadata": {},
   "source": [
    "# ANSWER BELOW\n",
    "\n",
    "# ANSWER BELOW\n",
    "\n",
    "# ANSWER BELOW\n",
    "\n",
    "# ANSWER BELOW"
   ]
  },
  {
   "cell_type": "code",
   "execution_count": null,
   "metadata": {},
   "outputs": [],
   "source": [
    "l = [[] for _ in range(4)]\n",
    "l[0].append(10)\n",
    "\n",
    "print(l)"
   ]
  },
  {
   "cell_type": "markdown",
   "metadata": {},
   "source": [
    "# Importing"
   ]
  },
  {
   "cell_type": "code",
   "execution_count": null,
   "metadata": {},
   "outputs": [],
   "source": [
    "%load_ext autoreload\n",
    "%autoreload 2\n",
    "#jupyter magic to reload package the have been changed"
   ]
  },
  {
   "cell_type": "code",
   "execution_count": null,
   "metadata": {},
   "outputs": [],
   "source": [
    "import math\n",
    "\n",
    "print(math.gcd(100,30))"
   ]
  },
  {
   "cell_type": "code",
   "execution_count": null,
   "metadata": {},
   "outputs": [],
   "source": [
    "import fun\n",
    "\n",
    "print([fun.fib(i) for i in range(10)])"
   ]
  },
  {
   "cell_type": "code",
   "execution_count": null,
   "metadata": {},
   "outputs": [],
   "source": [
    "import fun as fn\n",
    "\n",
    "print([fn.fib(i) for i in range(10)])"
   ]
  },
  {
   "cell_type": "code",
   "execution_count": null,
   "metadata": {},
   "outputs": [],
   "source": [
    "from fun import fib\n",
    "\n",
    "print([fib(i) for i in range(10)])"
   ]
  },
  {
   "cell_type": "code",
   "execution_count": null,
   "metadata": {},
   "outputs": [],
   "source": [
    "from fun import fib as fb\n",
    "\n",
    "print([fb(i) for i in range(10)])"
   ]
  },
  {
   "cell_type": "code",
   "execution_count": null,
   "metadata": {},
   "outputs": [],
   "source": [
    "from fun import fib, fac\n",
    "\n",
    "print([fac(i) for i in range(10)])"
   ]
  },
  {
   "cell_type": "code",
   "execution_count": null,
   "metadata": {},
   "outputs": [],
   "source": [
    "from fun import *\n",
    "\n",
    "print([fac(i) for i in range(10)])"
   ]
  },
  {
   "cell_type": "code",
   "execution_count": null,
   "metadata": {
    "scrolled": true
   },
   "outputs": [],
   "source": [
    "from functions import sqrt, log\n",
    "\n",
    "print([sqrt(i) for i in range(10)])\n",
    "print([log(2**i) for i in range(10)])"
   ]
  },
  {
   "cell_type": "code",
   "execution_count": null,
   "metadata": {},
   "outputs": [],
   "source": [
    "import this  #eh de w eh alfark ben from (fun import) wa (import fun as)"
   ]
  },
  {
   "cell_type": "markdown",
   "metadata": {},
   "source": [
    "# Search Excercise\n",
    "- Can you write a python file that?\n",
    "    - Execute a part of the code only if called in from the console (via python).\n",
    "    - Execute another part if imported from another python file (or notebook).\n",
    "- **Hint:** search for \\__name__"
   ]
  },
  {
   "cell_type": "markdown",
   "metadata": {},
   "source": [
    "# Read and Write Files"
   ]
  },
  {
   "cell_type": "code",
   "execution_count": null,
   "metadata": {},
   "outputs": [],
   "source": [
    "f = open('new.txt','w')\n",
    "f.write('hello')\n",
    "f.close() "
   ]
  },
  {
   "cell_type": "code",
   "execution_count": null,
   "metadata": {},
   "outputs": [],
   "source": [
    "f = open('new.txt','r')\n",
    "s = f.read()\n",
    "f.close()\n",
    "print(s)"
   ]
  },
  {
   "cell_type": "code",
   "execution_count": null,
   "metadata": {},
   "outputs": [
    {
     "name": "stdout",
     "output_type": "stream",
     "text": [
      "['the', 'of', 'and', 'to', 'a', 'in', 'for', 'is', 'on', 'that', 'by', 'this', 'with', 'i', 'you', 'it', 'not', 'or', 'be', 'are', 'from', 'at', 'as', 'your', 'all']\n"
     ]
    }
   ],
   "source": [
    "f = open('google-10000-english.txt','r')\n",
    "words = [word.strip() for word in f.readlines()]\n",
    "f.close()\n",
    "\n",
    "print(words[:25])"
   ]
  },
  {
   "cell_type": "code",
   "execution_count": null,
   "metadata": {},
   "outputs": [
    {
     "name": "stdout",
     "output_type": "stream",
     "text": [
      "the\n",
      "of\n",
      "and\n",
      "to\n",
      "a\n",
      "in\n",
      "for\n",
      "is\n",
      "on\n",
      "that\n"
     ]
    }
   ],
   "source": [
    "with open('google-10000-english.txt','r') as f:\n",
    "    for _ in range(10):  # eh de _\n",
    "        print(f.readline().strip())"
   ]
  },
  {
   "cell_type": "code",
   "execution_count": null,
   "metadata": {},
   "outputs": [
    {
     "name": "stdout",
     "output_type": "stream",
     "text": [
      "{'menu': {'id': 'file', 'value': 'File', 'popup': {'menuitem': [{'value': 'New', 'onclick': 'CreateNewDoc()'}, {'value': 'Open', 'onclick': 'OpenDoc()'}, {'value': 'Close', 'onclick': 'CloseDoc()'}]}}}\n"
     ]
    }
   ],
   "source": [
    "import json\n",
    "\n",
    "data = json.load(open('example.json','r'))\n",
    "\n",
    "print(data)"
   ]
  },
  {
   "cell_type": "code",
   "execution_count": null,
   "metadata": {},
   "outputs": [],
   "source": [
    "data = {'item 1':{'colors':['white', 'red', 'black'], 'price':10}, 'item 2':{'colors':['magenta'], 'price':5}}\n",
    "\n",
    "json.dump(data, open('other.json', 'w'), indent=1)"
   ]
  },
  {
   "cell_type": "code",
   "execution_count": null,
   "metadata": {},
   "outputs": [
    {
     "name": "stdout",
     "output_type": "stream",
     "text": [
      "{'menu': {'id': 'file', 'value': 'File', 'popup': {'menuitem': [{'value': 'New', 'onclick': 'CreateNewDoc()'}, {'value': 'Open', 'onclick': 'OpenDoc()'}, {'value': 'Close', 'onclick': 'CloseDoc()'}]}}}\n",
      "{\n",
      "\"menu\": {\n",
      "\"id\": \"file\",\n",
      "\"value\": \"File\",\n",
      "\"popup\": {\n",
      "\"menuitem\": [\n",
      "{\n",
      "\"value\": \"New\",\n",
      "\"onclick\": \"CreateNewDoc()\"\n",
      "},\n",
      "{\n",
      "\"value\": \"Open\",\n",
      "\"onclick\": \"OpenDoc()\"\n",
      "},\n",
      "{\n",
      "\"value\": \"Close\",\n",
      "\"onclick\": \"CloseDoc()\"\n",
      "}\n",
      "]\n",
      "}\n",
      "}\n",
      "}\n"
     ]
    }
   ],
   "source": [
    "print(data)\n",
    "print(json.dumps(data, indent=\"\"))"
   ]
  },
  {
   "cell_type": "markdown",
   "metadata": {},
   "source": [
    "# Classes"
   ]
  },
  {
   "cell_type": "code",
   "execution_count": null,
   "metadata": {},
   "outputs": [],
   "source": [
    "class Person:\n",
    "    def __init__(self, name=\"<Unknown>\", age=20):\n",
    "        self.name = name\n",
    "        self.age = age\n",
    "    \n",
    "    def introduce(self):\n",
    "        print(\"My name is %s, I am %i years old\" % (self.name, self.age))\n",
    "    \n",
    "p = Person()\n",
    "p.introduce()\n",
    "p.name = \"Mohamed\"\n",
    "p.age = 50\n",
    "p.introduce()"
   ]
  },
  {
   "cell_type": "code",
   "execution_count": null,
   "metadata": {},
   "outputs": [],
   "source": [
    "class EmptyObject:\n",
    "    def __init__(self):\n",
    "        pass\n",
    "\n",
    "o = EmptyObject()\n",
    "o.x = 1\n",
    "o.y = 2\n",
    "print(o.x, ',', o.y)\n",
    "\n",
    "def display(self):\n",
    "    print(self.x, ',', self.y)\n",
    "\n",
    "EmptyObject.show = display\n",
    "o.show()"
   ]
  },
  {
   "cell_type": "code",
   "execution_count": null,
   "metadata": {},
   "outputs": [],
   "source": [
    "import datetime\n",
    "\n",
    "class Person:\n",
    "    def __init__(self, name=\"<Unknown>\", age=20):\n",
    "        self.name = name\n",
    "        self.age = age\n",
    "    \n",
    "    def getBirthYear(self):\n",
    "        return datetime.date.today().year - self.age\n",
    "    \n",
    "    def introduce(self):\n",
    "        print(\"My name is %s, I was born in %i\" % (self.name, self.getBirthYear()))\n",
    "\n",
    "p = Person(\"Mohamed\", 30)\n",
    "p.introduce()"
   ]
  },
  {
   "cell_type": "code",
   "execution_count": null,
   "metadata": {},
   "outputs": [],
   "source": [
    "import datetime\n",
    "\n",
    "class Person:\n",
    "    def __init__(self, name=\"<Unknown>\", age=20):\n",
    "        self.name = name\n",
    "        self.age = age\n",
    "    \n",
    "    def getBirthYear(self):\n",
    "        return datetime.date.today().year - self.age\n",
    "    \n",
    "    def introduce(self):\n",
    "        print(\"My name is %s, I was born in %i\" % (self.name, self.getBirthYear()))\n",
    "    \n",
    "    def __del__(self):\n",
    "        print(\"RIP\", self.name)\n",
    "\n",
    "p = Person(\"Mohamed\", 30)\n",
    "p.introduce()\n",
    "p = Person(\"Ahmed\", 20)\n",
    "p.introduce()"
   ]
  },
  {
   "cell_type": "code",
   "execution_count": null,
   "metadata": {},
   "outputs": [],
   "source": [
    "del p"
   ]
  },
  {
   "cell_type": "code",
   "execution_count": null,
   "metadata": {},
   "outputs": [],
   "source": [
    "p1 = Person(\"Mohamed\", 30)\n",
    "p2 = p1\n",
    "print(\"Deleting p1\")\n",
    "del p1\n",
    "print(\"Deleting p2\")\n",
    "del p2"
   ]
  },
  {
   "cell_type": "code",
   "execution_count": null,
   "metadata": {},
   "outputs": [],
   "source": [
    "import datetime\n",
    "\n",
    "class Person:\n",
    "    \n",
    "    population = 0\n",
    "    \n",
    "    def __init__(self, name=\"<Unknown>\", age=20):\n",
    "        self.name = name\n",
    "        self.age = age\n",
    "        Person.population += 1\n",
    "    \n",
    "    def getBirthYear(self):\n",
    "        return datetime.date.today().year - self.age\n",
    "    \n",
    "    def introduce(self):\n",
    "        print(\"My name is %s, I was born in %i\" % (self.name, self.getBirthYear()))\n",
    "    \n",
    "    def __del__(self):\n",
    "        print(\"RIP\", self.name)\n",
    "        Person.population -= 1\n",
    "\n",
    "p = Person(\"Mohamed\", 30)\n",
    "p.introduce()\n",
    "print(\"Population =\", Person.population)\n",
    "\n",
    "p = Person(\"Ahmed\", 20)\n",
    "p.introduce()\n",
    "print(\"Population =\", Person.population)\n",
    "\n",
    "p2 = Person(\"Samir\", 40)\n",
    "p2.introduce()\n",
    "print(\"Population =\", Person.population)\n",
    "\n",
    "del p\n",
    "del p2"
   ]
  },
  {
   "cell_type": "code",
   "execution_count": null,
   "metadata": {},
   "outputs": [],
   "source": [
    "import datetime\n",
    "\n",
    "class Person:\n",
    "    \n",
    "    population = 0\n",
    "    \n",
    "    def __init__(self, name=\"<Unknown>\", age=20):\n",
    "        self.name = name\n",
    "        self.age = age\n",
    "        Person.population += 1\n",
    "    \n",
    "    def getBirthYear(self):\n",
    "        return datetime.date.today().year - self.age\n",
    "    \n",
    "    def introduce(self):\n",
    "        print(\"My name is %s, I was born in %i\" % (self.name, self.getBirthYear()))\n",
    "    \n",
    "    def __del__(self):\n",
    "        print(\"RIP\", self.name)\n",
    "        Person.population -= 1\n",
    "    \n",
    "    @staticmethod\n",
    "    def displayPopulation():\n",
    "        print(\"The are %i person(s)\" % Person.population)\n",
    "\n",
    "p = Person(\"Mohamed\", 30)\n",
    "p.introduce()\n",
    "Person.displayPopulation()\n",
    "\n",
    "p = Person(\"Ahmed\", 20)\n",
    "p.introduce()\n",
    "Person.displayPopulation()\n",
    "\n",
    "p2 = Person(\"Samir\", 40)\n",
    "p2.introduce()\n",
    "Person.displayPopulation()\n",
    "\n",
    "del p\n",
    "del p2"
   ]
  },
  {
   "cell_type": "code",
   "execution_count": null,
   "metadata": {},
   "outputs": [],
   "source": [
    "class Person:\n",
    "    \n",
    "    def __init__(self, name=\"<Unknown>\", age=20):\n",
    "        self.__name = name\n",
    "        self.__age = age if age > 0 else 0 \n",
    "    \n",
    "    @property\n",
    "    def name(self):\n",
    "        return self.__name\n",
    "    \n",
    "    @property\n",
    "    def age(self):\n",
    "        return self.__age\n",
    "    \n",
    "    @age.setter\n",
    "    def age(self, age):\n",
    "        self.__age = age if age > 0 else 0 \n",
    "    \n",
    "p1 = Person(\"Ahmed\")\n",
    "print(p1.name)\n",
    "print(p1.age)\n",
    "p1.age = -10\n",
    "print(p1.age)\n",
    "p1.age = 20\n",
    "print(p1.age)\n",
    "p1.name = \"Samir\""
   ]
  },
  {
   "cell_type": "markdown",
   "metadata": {},
   "source": [
    "# Inheritence"
   ]
  },
  {
   "cell_type": "code",
   "execution_count": null,
   "metadata": {},
   "outputs": [],
   "source": [
    "import datetime\n",
    "\n",
    "class Person:\n",
    "    def __init__(self, name=\"<Unknown>\", age=20):\n",
    "        self.name = name\n",
    "        self.age = age\n",
    "    \n",
    "    def getBirthYear(self):\n",
    "        return datetime.date.today().year - self.age\n",
    "    \n",
    "    def introduce(self):\n",
    "        print(\"My name is %s, I was born in %i\" % (self.name, self.getBirthYear()))\n",
    "\n",
    "class Student(Person):\n",
    "    def __init__(self, name=\"<Unknown>\", age=20, school=\"<Unknown>\"):\n",
    "        super().__init__(name, age)\n",
    "        self.school = school\n",
    "    \n",
    "    def introduce(self):\n",
    "        print(\"My name is %s, I was born in %i, I study at %s\" % (self.name, self.getBirthYear(), self.school))\n",
    "\n",
    "class Employee(Person):\n",
    "    def __init__(self, name=\"<Unknown>\", age=20, company=\"<Unknown>\"):\n",
    "        super().__init__(name, age)\n",
    "        self.company = company\n",
    "    \n",
    "    def introduce(self):\n",
    "        print(\"My name is %s, I was born in %i, I work at %s\" % (self.name, self.getBirthYear(), self.company))\n",
    "\n",
    "p1 = Person(\"Mohamed\", 30)\n",
    "p1.introduce()\n",
    "\n",
    "p2 = Student(\"Ramy\", 10, \"Future Schools\")\n",
    "p2.introduce()\n",
    "\n",
    "p3 = Employee(\"Hoda\", 40, \"Future Tech Co.\")\n",
    "p3.introduce()\n",
    "\n",
    "print()\n",
    "print(\"is p1 a Person?\", isinstance(p1, Person))\n",
    "print(\"is p1 a Student?\", isinstance(p1, Student))\n",
    "print(\"is p1 a Employee?\", isinstance(p1, Employee))\n",
    "\n",
    "print()\n",
    "print(\"is p2 a Person?\", isinstance(p2, Person))\n",
    "print(\"is p2 a Student?\", isinstance(p2, Student))\n",
    "print(\"is p2 a Employee?\", isinstance(p2, Employee))\n",
    "\n",
    "\n",
    "print()\n",
    "print(\"is p3 a Person?\", isinstance(p3, Person))\n",
    "print(\"is p3 a Student?\", isinstance(p3, Student))\n",
    "print(\"is p3 a Employee?\", isinstance(p3, Employee))"
   ]
  },
  {
   "cell_type": "markdown",
   "metadata": {},
   "source": [
    "# Operator Overloading"
   ]
  },
  {
   "cell_type": "code",
   "execution_count": null,
   "metadata": {},
   "outputs": [],
   "source": [
    "class Vector2:\n",
    "    def __init__(self, x, y):\n",
    "        self.x = x\n",
    "        self.y = y\n",
    "    \n",
    "    def __str__(self):\n",
    "        return \"(%f,%f)\" % (self.x, self.y)\n",
    "    \n",
    "    def __add__(self, other):\n",
    "        return Vector2(self.x + other.x, self.y + other.y)\n",
    "    \n",
    "v1 = Vector2(1.1, 2.2)\n",
    "v2 = Vector2(0.9, 0.8)\n",
    "print(v1, '+', v2, '=', v1+v2)"
   ]
  },
  {
   "cell_type": "code",
   "execution_count": null,
   "metadata": {},
   "outputs": [],
   "source": [
    "class Vector2:\n",
    "    def __init__(self, x, y):\n",
    "        self.x = x\n",
    "        self.y = y\n",
    "    \n",
    "    def __str__(self):\n",
    "        return \"(%f,%f)\" % (self.x, self.y)\n",
    "    \n",
    "    def __mul__(self, other):\n",
    "        if isinstance(other, Vector2):\n",
    "            return Vector2(self.x * other.x, self.y * other.y)\n",
    "        else:\n",
    "            return Vector2(self.x * other, self.y * other)\n",
    "\n",
    "v1 = Vector2(1.1, 2.2)\n",
    "v2 = Vector2(0.9, 0.8)\n",
    "print(v1, '*', v2, '=', v1*v2)\n",
    "print(v1, '*', 10, '=', v1*10)\n",
    "print(10, '*', v1, '=', 10*v1)"
   ]
  },
  {
   "cell_type": "code",
   "execution_count": null,
   "metadata": {},
   "outputs": [],
   "source": [
    "class Vector2:\n",
    "    def __init__(self, x, y):\n",
    "        self.x = x\n",
    "        self.y = y\n",
    "    \n",
    "    def __str__(self):\n",
    "        return \"(%f,%f)\" % (self.x, self.y)\n",
    "    \n",
    "    def __mul__(self, other):\n",
    "        if isinstance(other, Vector2):\n",
    "            return Vector2(self.x * other.x, self.y * other.y)\n",
    "        else:\n",
    "            return Vector2(self.x * other, self.y * other)\n",
    "    \n",
    "    def __rmul__(self, other):\n",
    "        return self * other\n",
    "\n",
    "v1 = Vector2(1.1, 2.2)\n",
    "v2 = Vector2(0.9, 0.8)\n",
    "print(v1, '*', v2, '=', v1*v2)\n",
    "print(v1, '*', 10, '=', v1*10)\n",
    "print(10, '*', v1, '=', 10*v1)"
   ]
  },
  {
   "cell_type": "markdown",
   "metadata": {},
   "source": [
    "# Exceptions"
   ]
  },
  {
   "cell_type": "code",
   "execution_count": null,
   "metadata": {},
   "outputs": [],
   "source": [
    "try:\n",
    "    x = undefined_variable\n",
    "except:\n",
    "    print(\"An exception was caught\")"
   ]
  },
  {
   "cell_type": "code",
   "execution_count": null,
   "metadata": {},
   "outputs": [],
   "source": [
    "def div(x,y):\n",
    "    try:\n",
    "        print(x/y)\n",
    "    except ZeroDivisionError:\n",
    "        print(\"Can't Divide by Zero\")\n",
    "    except Exception as e:\n",
    "        print(e)\n",
    "    else:\n",
    "        print(\"No errors happened\")\n",
    "    finally:\n",
    "        print(\"This will run anyway\")\n",
    "\n",
    "div(10,2)\n",
    "div(10,0)\n",
    "div(\"Hello\",2)"
   ]
  },
  {
   "cell_type": "code",
   "execution_count": null,
   "metadata": {},
   "outputs": [],
   "source": [
    "def div(x,y):\n",
    "    try:\n",
    "        assert x >= 0, \"Sorry, I do positive div only\"\n",
    "        print(x/y)\n",
    "    except ZeroDivisionError:\n",
    "        print(\"Can't Divide by Zero\")\n",
    "    except Exception as e:\n",
    "        print(e)\n",
    "    else:\n",
    "        print(\"No errors happened\")\n",
    "    finally:\n",
    "        print(\"This will run anyway\")\n",
    "\n",
    "div(-10,2)"
   ]
  },
  {
   "cell_type": "code",
   "execution_count": null,
   "metadata": {},
   "outputs": [],
   "source": [
    "class CustomException(Exception):\n",
    "    pass\n",
    "\n",
    "def div(x,y):\n",
    "    try:\n",
    "        if x < 0:\n",
    "            raise CustomException()\n",
    "        print(x/y)\n",
    "    except ZeroDivisionError:\n",
    "        print(\"Can't Divide by Zero\")\n",
    "    except CustomException as e:\n",
    "        print(\"Sorry, I do positive div only\")\n",
    "    except Exception as e:\n",
    "        print(e)\n",
    "    else:\n",
    "        print(\"No errors happened\")\n",
    "    finally:\n",
    "        print(\"This will run anyway\")\n",
    "\n",
    "div(-10,2)"
   ]
  },
  {
   "cell_type": "code",
   "execution_count": null,
   "metadata": {},
   "outputs": [],
   "source": [
    "for _ in range(5):\n",
    "    try:\n",
    "        continue\n",
    "    finally:\n",
    "        print(\"Finally\")\n",
    "\n",
    "# the same happens with break and return"
   ]
  },
  {
   "cell_type": "markdown",
   "metadata": {},
   "source": [
    "# Generators"
   ]
  },
  {
   "cell_type": "code",
   "execution_count": null,
   "metadata": {},
   "outputs": [],
   "source": [
    "x = range(10)\n",
    "print(x)\n",
    "it = iter(x)\n",
    "print(it)"
   ]
  },
  {
   "cell_type": "code",
   "execution_count": null,
   "metadata": {
    "scrolled": true
   },
   "outputs": [],
   "source": [
    "print(next(it))"
   ]
  },
  {
   "cell_type": "code",
   "execution_count": null,
   "metadata": {},
   "outputs": [],
   "source": [
    "x = [2,3,5,7,11,13,17,19,23]\n",
    "print(x)\n",
    "it = iter(x)\n",
    "print(it)"
   ]
  },
  {
   "cell_type": "code",
   "execution_count": null,
   "metadata": {
    "scrolled": true
   },
   "outputs": [],
   "source": [
    "print(next(it))"
   ]
  },
  {
   "cell_type": "code",
   "execution_count": null,
   "metadata": {},
   "outputs": [],
   "source": [
    "it = (i*i for i in range(10))\n",
    "print(it)"
   ]
  },
  {
   "cell_type": "code",
   "execution_count": null,
   "metadata": {
    "scrolled": false
   },
   "outputs": [],
   "source": [
    "print(next(it))"
   ]
  },
  {
   "cell_type": "code",
   "execution_count": null,
   "metadata": {},
   "outputs": [],
   "source": [
    "def fibs():\n",
    "    a,b = 0,1\n",
    "    yield a\n",
    "    while True:\n",
    "        yield b\n",
    "        a,b = b,a+b\n",
    "\n",
    "it = fibs()\n",
    "print(it)"
   ]
  },
  {
   "cell_type": "code",
   "execution_count": null,
   "metadata": {
    "scrolled": true
   },
   "outputs": [],
   "source": [
    "print(next(it))"
   ]
  },
  {
   "cell_type": "code",
   "execution_count": null,
   "metadata": {},
   "outputs": [],
   "source": [
    "for i in fibs():\n",
    "    print(i)\n",
    "    if i > 100:\n",
    "        break"
   ]
  },
  {
   "cell_type": "code",
   "execution_count": null,
   "metadata": {},
   "outputs": [],
   "source": [
    "first_n = lambda it,n: (i for i,j in zip(it, range(n)))\n",
    "print([i for i in first_n(fibs(),10)])"
   ]
  },
  {
   "cell_type": "code",
   "execution_count": null,
   "metadata": {
    "scrolled": true
   },
   "outputs": [],
   "source": [
    "def cumsum(it):\n",
    "    s = 0\n",
    "    for i in it:\n",
    "        s += i\n",
    "        yield s\n",
    "\n",
    "a = [1,2,3,4,5,6,7,8,9]\n",
    "print([i for i in cumsum(a)])\n",
    "print(list(cumsum(a)))"
   ]
  },
  {
   "cell_type": "code",
   "execution_count": null,
   "metadata": {},
   "outputs": [],
   "source": [
    "class pyramid:\n",
    "    def __init__(self, height, symbol='*', empty=' '):\n",
    "        self.height = height\n",
    "        self.symbol = symbol\n",
    "        self.empty = empty\n",
    "    \n",
    "    def __iter__(self):\n",
    "        for i in range(self.height):\n",
    "            yield self.empty * (self.height - i) + self.symbol * (2*i + 1) + self.empty * (self.height - i)\n",
    "\n",
    "for s in pyramid(10):\n",
    "    print(s)"
   ]
  },
  {
   "cell_type": "markdown",
   "metadata": {},
   "source": [
    "# Decorators"
   ]
  },
  {
   "cell_type": "code",
   "execution_count": null,
   "metadata": {},
   "outputs": [],
   "source": [
    "def run_twice(fn):\n",
    "    return lambda x: fn(fn(x))\n",
    "\n",
    "@run_twice\n",
    "def square(x):\n",
    "    return x*x\n",
    "\n",
    "print(square(2))"
   ]
  },
  {
   "cell_type": "code",
   "execution_count": null,
   "metadata": {},
   "outputs": [],
   "source": [
    "# hoa leh m3arf func goa el tania\n",
    "def check_type(param_type):\n",
    "    def deco(fn):\n",
    "        def type_checked(x):\n",
    "            if isinstance(x, param_type):\n",
    "                return fn(x)\n",
    "            else:\n",
    "                return \"Parameter must be of type \" + str(param_type)\n",
    "        return type_checked\n",
    "    return deco\n",
    "# leh msta5dm @\n",
    "@check_type(int)\n",
    "def is_prime(x):\n",
    "    return x>1 and not any(x%i==0 for i in range(2,x))\n",
    "\n",
    "print(is_prime(5))\n",
    "print(is_prime(6))\n",
    "print(is_prime(\"hello\"))"
   ]
  },
  {
   "cell_type": "code",
   "execution_count": null,
   "metadata": {},
   "outputs": [],
   "source": [
    "def static_vars(**kw):\n",
    "    def deco(fn):\n",
    "        for key, val in kw.items():\n",
    "            setattr(fn, key, val)\n",
    "        return fn\n",
    "    return deco\n",
    "\n",
    "@static_vars(count=10)\n",
    "def counter():\n",
    "    counter.count += 1\n",
    "    return counter.count\n",
    "\n",
    "print(counter())\n",
    "print(counter())\n",
    "print(counter())"
   ]
  },
  {
   "cell_type": "markdown",
   "metadata": {},
   "source": [
    "# Context"
   ]
  },
  {
   "cell_type": "code",
   "execution_count": null,
   "metadata": {},
   "outputs": [],
   "source": [
    "class Context:\n",
    "    def __enter__(self):\n",
    "        print(\"Entering\")\n",
    "    \n",
    "    def __exit__(self, exc_type, exc_value, traceback):\n",
    "        print(\"Exiting\")\n",
    "\n",
    "with Context():\n",
    "    print(\"Hello World\")"
   ]
  },
  {
   "cell_type": "code",
   "execution_count": null,
   "metadata": {},
   "outputs": [],
   "source": [
    "class CountedFunction:\n",
    "    def __init__(self, fn):\n",
    "        self.fn = fn\n",
    "        self.count = 0\n",
    "    \n",
    "    def __call__(self, *args, **kwargs):\n",
    "        self.count += 1\n",
    "        return self.fn(*args, **kwargs)\n",
    "    \n",
    "    def __enter__(self):\n",
    "        print(\"Start Counting...\")\n",
    "        self.count = 0\n",
    "        return self\n",
    "    \n",
    "    def __exit__(self, exc_type, exc_value, traceback):\n",
    "        print(f'Function called {self.count} time(s)')\n",
    "\n",
    "with CountedFunction(print) as p:\n",
    "    p(\"Hello World\")\n",
    "    p(\"Good Bye\")\n",
    "    p(\"Real Good Bye\")"
   ]
  },
  {
   "cell_type": "code",
   "execution_count": null,
   "metadata": {
    "scrolled": true
   },
   "outputs": [],
   "source": [
    "with open('google-10000-english.txt', 'r') as f:\n",
    "    print(f.readline())"
   ]
  },
  {
   "cell_type": "code",
   "execution_count": null,
   "metadata": {},
   "outputs": [],
   "source": [
    "with open('google-10000-english.txt', 'r') as f, CountedFunction(f.readline) as r:\n",
    "    for _ in range(10):\n",
    "        print(r(), end='')"
   ]
  },
  {
   "cell_type": "code",
   "execution_count": null,
   "metadata": {},
   "outputs": [],
   "source": [
    "import time\n",
    "\n",
    "class Timer():\n",
    "    def __init__(self, msg=\"\"):\n",
    "        self.msg = msg\n",
    "        self.start = 0\n",
    "    \n",
    "    def __enter__(self):\n",
    "        print(f'[{self.msg}] start...')\n",
    "        self.start = time.time()\n",
    "    \n",
    "    def __exit__(self, exc_type, exc_value, traceback):\n",
    "        elapsed = time.time() - self.start\n",
    "        hours, rem = divmod(elapsed, 3600)\n",
    "        minutes, seconds = divmod(rem, 60)\n",
    "        elapsed_str = \"{:0>2}:{:0>2}:{:05.2f}\".format(int(hours),int(minutes),seconds)\n",
    "        print(f'[{self.msg}] done in {elapsed_str}.')\n",
    "\n",
    "with Timer(\"add\"):\n",
    "    for _ in range(10000000):\n",
    "        x = 1+10"
   ]
  },
  {
   "cell_type": "code",
   "execution_count": null,
   "metadata": {},
   "outputs": [],
   "source": [
    "with Timer(\"math\"):\n",
    "    with Timer(\"add\"):\n",
    "        for _ in range(10000000):\n",
    "            x = 23+10\n",
    "    with Timer(\"subtract\"):\n",
    "        for _ in range(10000000):\n",
    "            x = 23-10\n",
    "    with Timer(\"multiply\"):\n",
    "        for _ in range(10000000):\n",
    "            x = 23*10\n",
    "    with Timer(\"divide\"):\n",
    "        for _ in range(10000000):\n",
    "            x = 23/10"
   ]
  },
  {
   "cell_type": "code",
   "execution_count": null,
   "metadata": {},
   "outputs": [],
   "source": []
  }
 ],
 "metadata": {
  "kernelspec": {
   "display_name": "Python 3",
   "language": "python",
   "name": "python3"
  },
  "language_info": {
   "codemirror_mode": {
    "name": "ipython",
    "version": 3
   },
   "file_extension": ".py",
   "mimetype": "text/x-python",
   "name": "python",
   "nbconvert_exporter": "python",
   "pygments_lexer": "ipython3",
   "version": "3.9.12"
  }
 },
 "nbformat": 4,
 "nbformat_minor": 2
}
